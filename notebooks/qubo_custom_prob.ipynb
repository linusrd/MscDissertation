{
 "cells": [
  {
   "cell_type": "code",
   "execution_count": 1,
   "metadata": {},
   "outputs": [],
   "source": [
    "import sys\n",
    "sys.path.insert(1, '/Users/linusrandud/Documents/UoM/ERP/MscDissertation/Deep-Opt')"
   ]
  },
  {
   "cell_type": "code",
   "execution_count": 2,
   "metadata": {},
   "outputs": [
    {
     "name": "stderr",
     "output_type": "stream",
     "text": [
      "/Users/linusrandud/anaconda3/envs/myenv_3.9/lib/python3.9/site-packages/tqdm/auto.py:21: TqdmWarning: IProgress not found. Please update jupyter and ipywidgets. See https://ipywidgets.readthedocs.io/en/stable/user_install.html\n",
      "  from .autonotebook import tqdm as notebook_tqdm\n"
     ]
    }
   ],
   "source": [
    "import torch\n",
    "import numpy as np\n",
    "import json\n",
    "\n",
    "from COProblems.MKP import MKP\n",
    "from COProblems.QUBO import QUBO\n",
    "from Models.DOAE import DOAE\n",
    "from OptimAE import OptimAEHandler"
   ]
  },
  {
   "cell_type": "code",
   "execution_count": 3,
   "metadata": {},
   "outputs": [
    {
     "name": "stdout",
     "output_type": "stream",
     "text": [
      "cpu\n"
     ]
    }
   ],
   "source": [
    "# Highly recommended to keep as cpu for problems of size <= 100\n",
    "device=\"cpu\"\n",
    "print(device)\n",
    "device = torch.device(device)"
   ]
  },
  {
   "cell_type": "code",
   "execution_count": null,
   "metadata": {},
   "outputs": [],
   "source": []
  },
  {
   "cell_type": "markdown",
   "metadata": {},
   "source": [
    "## load json"
   ]
  },
  {
   "cell_type": "code",
   "execution_count": 4,
   "metadata": {},
   "outputs": [],
   "source": [
    "def load_jobs_and_get_durations(json_file):\n",
    "    \"\"\"\n",
    "    Load jobs from a JSON file and extract the durations.\n",
    "\n",
    "    Args:\n",
    "        json_file (str): Path to the JSON file containing job details.\n",
    "\n",
    "    Returns:\n",
    "        list: List of job durations.\n",
    "    \"\"\"\n",
    "    with open(json_file, 'r') as f:\n",
    "        jobs = json.load(f)\n",
    "    \n",
    "    durations = [job['duration'] for job in jobs.values()]\n",
    "    return durations"
   ]
  },
  {
   "cell_type": "code",
   "execution_count": 5,
   "metadata": {},
   "outputs": [
    {
     "data": {
      "text/plain": [
       "[19, 1, 18, 2]"
      ]
     },
     "execution_count": 5,
     "metadata": {},
     "output_type": "execute_result"
    }
   ],
   "source": [
    "filename = 'ssjsp_4'\n",
    "durations = load_jobs_and_get_durations(f'../data/ssjsp/{filename}.json')\n",
    "durations"
   ]
  },
  {
   "cell_type": "code",
   "execution_count": null,
   "metadata": {},
   "outputs": [],
   "source": []
  },
  {
   "cell_type": "markdown",
   "metadata": {},
   "source": [
    "## problem converter"
   ]
  },
  {
   "cell_type": "code",
   "execution_count": 6,
   "metadata": {},
   "outputs": [],
   "source": [
    "def generate_qubo_matrix(S):\n",
    "    n = len(S)\n",
    "    c = sum(S)\n",
    "    Q = np.zeros((n, n))\n",
    "    \n",
    "    for i in range(n):\n",
    "        for j in range(n):\n",
    "            if i == j:\n",
    "                Q[i, j] = S[i] * (S[i] - c)\n",
    "            else:\n",
    "                Q[i, j] = S[i] * S[j]\n",
    "    \n",
    "    return Q"
   ]
  },
  {
   "cell_type": "code",
   "execution_count": 7,
   "metadata": {},
   "outputs": [],
   "source": [
    "Q = generate_qubo_matrix(durations)"
   ]
  },
  {
   "cell_type": "code",
   "execution_count": 8,
   "metadata": {},
   "outputs": [
    {
     "data": {
      "text/plain": [
       "array([[-399.,   19.,  342.,   38.],\n",
       "       [  19.,  -39.,   18.,    2.],\n",
       "       [ 342.,   18., -396.,   36.],\n",
       "       [  38.,    2.,   36.,  -76.]])"
      ]
     },
     "execution_count": 8,
     "metadata": {},
     "output_type": "execute_result"
    }
   ],
   "source": [
    "Q"
   ]
  },
  {
   "cell_type": "code",
   "execution_count": null,
   "metadata": {},
   "outputs": [],
   "source": []
  },
  {
   "cell_type": "code",
   "execution_count": null,
   "metadata": {},
   "outputs": [],
   "source": []
  },
  {
   "cell_type": "markdown",
   "metadata": {},
   "source": [
    "## save problem"
   ]
  },
  {
   "cell_type": "code",
   "execution_count": 27,
   "metadata": {},
   "outputs": [],
   "source": [
    "# Generate the text file content\n",
    "lines = []\n",
    "lines.append(\"1\\n\")  # Number of problem instances\n",
    "\n",
    "# Collect non-zero entries\n",
    "n = Q.shape[0]\n",
    "non_zero_entries = []\n",
    "for i in range(n):\n",
    "    for j in range(i, n):\n",
    "        if Q[i][j] != 0:\n",
    "            non_zero_entries.append((i + 1, j + 1, int(Q[i][j])))\n",
    "\n",
    "# Add the number of variables and number of non-zero entries\n",
    "lines.append(f\"{n} {len(non_zero_entries)}\\n\")\n",
    "\n",
    "# Add the non-zero entries to lines\n",
    "for entry in non_zero_entries:\n",
    "    i, j, value = entry\n",
    "    lines.append(f\"{i} {j} {value}\\n\")\n",
    "\n",
    "# Write to file\n",
    "with open(f\"../data/qubo/{filename}.txt\", \"w\") as f:\n",
    "    f.writelines(lines)"
   ]
  },
  {
   "cell_type": "code",
   "execution_count": null,
   "metadata": {},
   "outputs": [],
   "source": []
  },
  {
   "cell_type": "code",
   "execution_count": null,
   "metadata": {},
   "outputs": [],
   "source": []
  },
  {
   "cell_type": "code",
   "execution_count": null,
   "metadata": {},
   "outputs": [],
   "source": []
  }
 ],
 "metadata": {
  "kernelspec": {
   "display_name": "myenv",
   "language": "python",
   "name": "python3"
  },
  "language_info": {
   "codemirror_mode": {
    "name": "ipython",
    "version": 3
   },
   "file_extension": ".py",
   "mimetype": "text/x-python",
   "name": "python",
   "nbconvert_exporter": "python",
   "pygments_lexer": "ipython3",
   "version": "3.9.19"
  }
 },
 "nbformat": 4,
 "nbformat_minor": 2
}
