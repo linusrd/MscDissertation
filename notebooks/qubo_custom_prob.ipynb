{
 "cells": [
  {
   "cell_type": "code",
   "execution_count": 10,
   "metadata": {},
   "outputs": [],
   "source": [
    "import sys\n",
    "sys.path.insert(1, '/Users/linusrandud/Documents/UoM/ERP/MscDissertation/Deep-Opt')"
   ]
  },
  {
   "cell_type": "code",
   "execution_count": 11,
   "metadata": {},
   "outputs": [],
   "source": [
    "import torch\n",
    "import numpy as np\n",
    "import json\n",
    "\n",
    "from COProblems.MKP import MKP\n",
    "from COProblems.QUBO import QUBO\n",
    "from Models.DOAE import DOAE\n",
    "from OptimAE import OptimAEHandler"
   ]
  },
  {
   "cell_type": "code",
   "execution_count": 12,
   "metadata": {},
   "outputs": [
    {
     "name": "stdout",
     "output_type": "stream",
     "text": [
      "cpu\n"
     ]
    }
   ],
   "source": [
    "# Highly recommended to keep as cpu for problems of size <= 100\n",
    "device=\"cpu\"\n",
    "print(device)\n",
    "device = torch.device(device)"
   ]
  },
  {
   "cell_type": "code",
   "execution_count": null,
   "metadata": {},
   "outputs": [],
   "source": []
  },
  {
   "cell_type": "markdown",
   "metadata": {},
   "source": [
    "## load json"
   ]
  },
  {
   "cell_type": "code",
   "execution_count": 13,
   "metadata": {},
   "outputs": [],
   "source": [
    "def load_jobs_and_get_durations(json_file):\n",
    "    \"\"\"\n",
    "    Load jobs from a JSON file and extract the durations.\n",
    "\n",
    "    Args:\n",
    "        json_file (str): Path to the JSON file containing job details.\n",
    "\n",
    "    Returns:\n",
    "        list: List of job durations.\n",
    "    \"\"\"\n",
    "    with open(json_file, 'r') as f:\n",
    "        jobs = json.load(f)\n",
    "    \n",
    "    durations = [job['duration'] for job in jobs.values()]\n",
    "    return durations"
   ]
  },
  {
   "cell_type": "code",
   "execution_count": 14,
   "metadata": {},
   "outputs": [
    {
     "data": {
      "text/plain": [
       "[20, 20, 20, 20, 15, 1, 1, 1, 1, 1, 19, 19, 19, 19, 10, 4, 3, 3, 2, 2]"
      ]
     },
     "execution_count": 14,
     "metadata": {},
     "output_type": "execute_result"
    }
   ],
   "source": [
    "filename = 'ssjsp_20_05'\n",
    "durations = load_jobs_and_get_durations(f'../data/ssjsp/{filename}.json')\n",
    "durations"
   ]
  },
  {
   "cell_type": "code",
   "execution_count": null,
   "metadata": {},
   "outputs": [],
   "source": []
  },
  {
   "cell_type": "markdown",
   "metadata": {},
   "source": [
    "## problem converter"
   ]
  },
  {
   "cell_type": "code",
   "execution_count": 15,
   "metadata": {},
   "outputs": [],
   "source": [
    "def generate_qubo_matrix(S):\n",
    "    n = len(S)\n",
    "    c = sum(S)\n",
    "    Q = np.zeros((n, n))\n",
    "    \n",
    "    for i in range(n):\n",
    "        for j in range(n):\n",
    "            if i == j:\n",
    "                Q[i, j] = S[i] * (S[i] - c)\n",
    "            else:\n",
    "                Q[i, j] = S[i] * S[j]\n",
    "    \n",
    "    return Q"
   ]
  },
  {
   "cell_type": "code",
   "execution_count": 16,
   "metadata": {},
   "outputs": [],
   "source": [
    "Q = generate_qubo_matrix(durations)"
   ]
  },
  {
   "cell_type": "code",
   "execution_count": 17,
   "metadata": {},
   "outputs": [
    {
     "data": {
      "text/plain": [
       "array([[-3.600e+03,  4.000e+02,  4.000e+02,  4.000e+02,  3.000e+02,\n",
       "         2.000e+01,  2.000e+01,  2.000e+01,  2.000e+01,  2.000e+01,\n",
       "         3.800e+02,  3.800e+02,  3.800e+02,  3.800e+02,  2.000e+02,\n",
       "         8.000e+01,  6.000e+01,  6.000e+01,  4.000e+01,  4.000e+01],\n",
       "       [ 4.000e+02, -3.600e+03,  4.000e+02,  4.000e+02,  3.000e+02,\n",
       "         2.000e+01,  2.000e+01,  2.000e+01,  2.000e+01,  2.000e+01,\n",
       "         3.800e+02,  3.800e+02,  3.800e+02,  3.800e+02,  2.000e+02,\n",
       "         8.000e+01,  6.000e+01,  6.000e+01,  4.000e+01,  4.000e+01],\n",
       "       [ 4.000e+02,  4.000e+02, -3.600e+03,  4.000e+02,  3.000e+02,\n",
       "         2.000e+01,  2.000e+01,  2.000e+01,  2.000e+01,  2.000e+01,\n",
       "         3.800e+02,  3.800e+02,  3.800e+02,  3.800e+02,  2.000e+02,\n",
       "         8.000e+01,  6.000e+01,  6.000e+01,  4.000e+01,  4.000e+01],\n",
       "       [ 4.000e+02,  4.000e+02,  4.000e+02, -3.600e+03,  3.000e+02,\n",
       "         2.000e+01,  2.000e+01,  2.000e+01,  2.000e+01,  2.000e+01,\n",
       "         3.800e+02,  3.800e+02,  3.800e+02,  3.800e+02,  2.000e+02,\n",
       "         8.000e+01,  6.000e+01,  6.000e+01,  4.000e+01,  4.000e+01],\n",
       "       [ 3.000e+02,  3.000e+02,  3.000e+02,  3.000e+02, -2.775e+03,\n",
       "         1.500e+01,  1.500e+01,  1.500e+01,  1.500e+01,  1.500e+01,\n",
       "         2.850e+02,  2.850e+02,  2.850e+02,  2.850e+02,  1.500e+02,\n",
       "         6.000e+01,  4.500e+01,  4.500e+01,  3.000e+01,  3.000e+01],\n",
       "       [ 2.000e+01,  2.000e+01,  2.000e+01,  2.000e+01,  1.500e+01,\n",
       "        -1.990e+02,  1.000e+00,  1.000e+00,  1.000e+00,  1.000e+00,\n",
       "         1.900e+01,  1.900e+01,  1.900e+01,  1.900e+01,  1.000e+01,\n",
       "         4.000e+00,  3.000e+00,  3.000e+00,  2.000e+00,  2.000e+00],\n",
       "       [ 2.000e+01,  2.000e+01,  2.000e+01,  2.000e+01,  1.500e+01,\n",
       "         1.000e+00, -1.990e+02,  1.000e+00,  1.000e+00,  1.000e+00,\n",
       "         1.900e+01,  1.900e+01,  1.900e+01,  1.900e+01,  1.000e+01,\n",
       "         4.000e+00,  3.000e+00,  3.000e+00,  2.000e+00,  2.000e+00],\n",
       "       [ 2.000e+01,  2.000e+01,  2.000e+01,  2.000e+01,  1.500e+01,\n",
       "         1.000e+00,  1.000e+00, -1.990e+02,  1.000e+00,  1.000e+00,\n",
       "         1.900e+01,  1.900e+01,  1.900e+01,  1.900e+01,  1.000e+01,\n",
       "         4.000e+00,  3.000e+00,  3.000e+00,  2.000e+00,  2.000e+00],\n",
       "       [ 2.000e+01,  2.000e+01,  2.000e+01,  2.000e+01,  1.500e+01,\n",
       "         1.000e+00,  1.000e+00,  1.000e+00, -1.990e+02,  1.000e+00,\n",
       "         1.900e+01,  1.900e+01,  1.900e+01,  1.900e+01,  1.000e+01,\n",
       "         4.000e+00,  3.000e+00,  3.000e+00,  2.000e+00,  2.000e+00],\n",
       "       [ 2.000e+01,  2.000e+01,  2.000e+01,  2.000e+01,  1.500e+01,\n",
       "         1.000e+00,  1.000e+00,  1.000e+00,  1.000e+00, -1.990e+02,\n",
       "         1.900e+01,  1.900e+01,  1.900e+01,  1.900e+01,  1.000e+01,\n",
       "         4.000e+00,  3.000e+00,  3.000e+00,  2.000e+00,  2.000e+00],\n",
       "       [ 3.800e+02,  3.800e+02,  3.800e+02,  3.800e+02,  2.850e+02,\n",
       "         1.900e+01,  1.900e+01,  1.900e+01,  1.900e+01,  1.900e+01,\n",
       "        -3.439e+03,  3.610e+02,  3.610e+02,  3.610e+02,  1.900e+02,\n",
       "         7.600e+01,  5.700e+01,  5.700e+01,  3.800e+01,  3.800e+01],\n",
       "       [ 3.800e+02,  3.800e+02,  3.800e+02,  3.800e+02,  2.850e+02,\n",
       "         1.900e+01,  1.900e+01,  1.900e+01,  1.900e+01,  1.900e+01,\n",
       "         3.610e+02, -3.439e+03,  3.610e+02,  3.610e+02,  1.900e+02,\n",
       "         7.600e+01,  5.700e+01,  5.700e+01,  3.800e+01,  3.800e+01],\n",
       "       [ 3.800e+02,  3.800e+02,  3.800e+02,  3.800e+02,  2.850e+02,\n",
       "         1.900e+01,  1.900e+01,  1.900e+01,  1.900e+01,  1.900e+01,\n",
       "         3.610e+02,  3.610e+02, -3.439e+03,  3.610e+02,  1.900e+02,\n",
       "         7.600e+01,  5.700e+01,  5.700e+01,  3.800e+01,  3.800e+01],\n",
       "       [ 3.800e+02,  3.800e+02,  3.800e+02,  3.800e+02,  2.850e+02,\n",
       "         1.900e+01,  1.900e+01,  1.900e+01,  1.900e+01,  1.900e+01,\n",
       "         3.610e+02,  3.610e+02,  3.610e+02, -3.439e+03,  1.900e+02,\n",
       "         7.600e+01,  5.700e+01,  5.700e+01,  3.800e+01,  3.800e+01],\n",
       "       [ 2.000e+02,  2.000e+02,  2.000e+02,  2.000e+02,  1.500e+02,\n",
       "         1.000e+01,  1.000e+01,  1.000e+01,  1.000e+01,  1.000e+01,\n",
       "         1.900e+02,  1.900e+02,  1.900e+02,  1.900e+02, -1.900e+03,\n",
       "         4.000e+01,  3.000e+01,  3.000e+01,  2.000e+01,  2.000e+01],\n",
       "       [ 8.000e+01,  8.000e+01,  8.000e+01,  8.000e+01,  6.000e+01,\n",
       "         4.000e+00,  4.000e+00,  4.000e+00,  4.000e+00,  4.000e+00,\n",
       "         7.600e+01,  7.600e+01,  7.600e+01,  7.600e+01,  4.000e+01,\n",
       "        -7.840e+02,  1.200e+01,  1.200e+01,  8.000e+00,  8.000e+00],\n",
       "       [ 6.000e+01,  6.000e+01,  6.000e+01,  6.000e+01,  4.500e+01,\n",
       "         3.000e+00,  3.000e+00,  3.000e+00,  3.000e+00,  3.000e+00,\n",
       "         5.700e+01,  5.700e+01,  5.700e+01,  5.700e+01,  3.000e+01,\n",
       "         1.200e+01, -5.910e+02,  9.000e+00,  6.000e+00,  6.000e+00],\n",
       "       [ 6.000e+01,  6.000e+01,  6.000e+01,  6.000e+01,  4.500e+01,\n",
       "         3.000e+00,  3.000e+00,  3.000e+00,  3.000e+00,  3.000e+00,\n",
       "         5.700e+01,  5.700e+01,  5.700e+01,  5.700e+01,  3.000e+01,\n",
       "         1.200e+01,  9.000e+00, -5.910e+02,  6.000e+00,  6.000e+00],\n",
       "       [ 4.000e+01,  4.000e+01,  4.000e+01,  4.000e+01,  3.000e+01,\n",
       "         2.000e+00,  2.000e+00,  2.000e+00,  2.000e+00,  2.000e+00,\n",
       "         3.800e+01,  3.800e+01,  3.800e+01,  3.800e+01,  2.000e+01,\n",
       "         8.000e+00,  6.000e+00,  6.000e+00, -3.960e+02,  4.000e+00],\n",
       "       [ 4.000e+01,  4.000e+01,  4.000e+01,  4.000e+01,  3.000e+01,\n",
       "         2.000e+00,  2.000e+00,  2.000e+00,  2.000e+00,  2.000e+00,\n",
       "         3.800e+01,  3.800e+01,  3.800e+01,  3.800e+01,  2.000e+01,\n",
       "         8.000e+00,  6.000e+00,  6.000e+00,  4.000e+00, -3.960e+02]])"
      ]
     },
     "execution_count": 17,
     "metadata": {},
     "output_type": "execute_result"
    }
   ],
   "source": [
    "Q"
   ]
  },
  {
   "cell_type": "code",
   "execution_count": null,
   "metadata": {},
   "outputs": [],
   "source": []
  },
  {
   "cell_type": "code",
   "execution_count": null,
   "metadata": {},
   "outputs": [],
   "source": []
  },
  {
   "cell_type": "markdown",
   "metadata": {},
   "source": [
    "## save problem"
   ]
  },
  {
   "cell_type": "code",
   "execution_count": 18,
   "metadata": {},
   "outputs": [],
   "source": [
    "# Generate the text file content\n",
    "lines = []\n",
    "lines.append(\"1\\n\")  # Number of problem instances\n",
    "\n",
    "# Collect non-zero entries\n",
    "n = Q.shape[0]\n",
    "non_zero_entries = []\n",
    "for i in range(n):\n",
    "    for j in range(i, n):\n",
    "        if Q[i][j] != 0:\n",
    "            non_zero_entries.append((i + 1, j + 1, int(Q[i][j])))\n",
    "\n",
    "# Add the number of variables and number of non-zero entries\n",
    "lines.append(f\"{n} {len(non_zero_entries)}\\n\")\n",
    "\n",
    "# Add the non-zero entries to lines\n",
    "for entry in non_zero_entries:\n",
    "    i, j, value = entry\n",
    "    lines.append(f\"{i} {j} {value}\\n\")\n",
    "\n",
    "# Write to file\n",
    "with open(f\"../data/qubo/{filename}.txt\", \"w\") as f:\n",
    "    f.writelines(lines)"
   ]
  },
  {
   "cell_type": "code",
   "execution_count": null,
   "metadata": {},
   "outputs": [],
   "source": []
  },
  {
   "cell_type": "code",
   "execution_count": null,
   "metadata": {},
   "outputs": [],
   "source": []
  },
  {
   "cell_type": "code",
   "execution_count": null,
   "metadata": {},
   "outputs": [],
   "source": []
  }
 ],
 "metadata": {
  "kernelspec": {
   "display_name": "myenv",
   "language": "python",
   "name": "python3"
  },
  "language_info": {
   "codemirror_mode": {
    "name": "ipython",
    "version": 3
   },
   "file_extension": ".py",
   "mimetype": "text/x-python",
   "name": "python",
   "nbconvert_exporter": "python",
   "pygments_lexer": "ipython3",
   "version": "3.9.19"
  }
 },
 "nbformat": 4,
 "nbformat_minor": 2
}
