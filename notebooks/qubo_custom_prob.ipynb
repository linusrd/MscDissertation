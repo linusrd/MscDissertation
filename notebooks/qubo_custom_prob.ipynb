{
 "cells": [
  {
   "cell_type": "code",
   "execution_count": 61,
   "metadata": {},
   "outputs": [],
   "source": [
    "import sys\n",
    "sys.path.insert(1, '/Users/linusrandud/Documents/UoM/ERP/MscDissertation/Deep-Opt')"
   ]
  },
  {
   "cell_type": "code",
   "execution_count": 62,
   "metadata": {},
   "outputs": [],
   "source": [
    "import torch\n",
    "\n",
    "from COProblems.MKP import MKP\n",
    "from COProblems.QUBO import QUBO\n",
    "from Models.DOAE import DOAE\n",
    "from OptimAE import OptimAEHandler"
   ]
  },
  {
   "cell_type": "code",
   "execution_count": 63,
   "metadata": {},
   "outputs": [
    {
     "name": "stdout",
     "output_type": "stream",
     "text": [
      "cpu\n"
     ]
    }
   ],
   "source": [
    "# Highly recommended to keep as cpu for problems of size <= 100\n",
    "device=\"cpu\"\n",
    "print(device)\n",
    "device = torch.device(device)"
   ]
  },
  {
   "cell_type": "code",
   "execution_count": null,
   "metadata": {},
   "outputs": [],
   "source": []
  },
  {
   "cell_type": "code",
   "execution_count": 64,
   "metadata": {},
   "outputs": [
    {
     "data": {
      "text/plain": [
       "4"
      ]
     },
     "execution_count": 64,
     "metadata": {},
     "output_type": "execute_result"
    }
   ],
   "source": [
    "a = [13, 23,\n",
    "     16, 20]\n",
    "len(a)"
   ]
  },
  {
   "cell_type": "code",
   "execution_count": 65,
   "metadata": {},
   "outputs": [
    {
     "data": {
      "text/plain": [
       "36"
      ]
     },
     "execution_count": 65,
     "metadata": {},
     "output_type": "execute_result"
    }
   ],
   "source": [
    "sum(a[:2])"
   ]
  },
  {
   "cell_type": "code",
   "execution_count": 66,
   "metadata": {},
   "outputs": [
    {
     "data": {
      "text/plain": [
       "36"
      ]
     },
     "execution_count": 66,
     "metadata": {},
     "output_type": "execute_result"
    }
   ],
   "source": [
    "sum(a[2:])"
   ]
  },
  {
   "cell_type": "code",
   "execution_count": null,
   "metadata": {},
   "outputs": [],
   "source": []
  },
  {
   "cell_type": "markdown",
   "metadata": {},
   "source": [
    "## create new file for custom problem"
   ]
  },
  {
   "cell_type": "code",
   "execution_count": 90,
   "metadata": {},
   "outputs": [
    {
     "name": "stdout",
     "output_type": "stream",
     "text": [
      "tensor([[-169., -598., -416., -520.],\n",
      "        [  -0., -529., -736., -920.],\n",
      "        [  -0.,   -0., -256., -640.],\n",
      "        [  -0.,   -0.,   -0., -400.]], dtype=torch.float64)\n"
     ]
    }
   ],
   "source": [
    "import numpy as np\n",
    "\n",
    "# Job durations\n",
    "# durations = [13, 23, 13, 13, 13, 13, 13, 13, 23, 13, 10, 10, 10, 20, 25, 20, 10, 15, 10, 20]\n",
    "durations = [13, 23,\n",
    "     16, 20]\n",
    "\n",
    "# Number of jobs\n",
    "n = len(durations)\n",
    "\n",
    "# Initialize QUBO matrix\n",
    "Q = np.zeros((n, n))\n",
    "\n",
    "# Fill the QUBO matrix\n",
    "for i in range(n):\n",
    "    for j in range(i, n):\n",
    "        if i == j:\n",
    "            Q[i, j] = durations[i] ** 2\n",
    "        else:\n",
    "            Q[i, j] = 2 * durations[i] * durations[j]\n",
    "\n",
    "# Convert Q matrix to PyTorch tensor for consistency with previous code\n",
    "Q = -Q\n",
    "Q_tensor = torch.tensor(Q)  # Negate for minimization\n",
    "\n",
    "# Display the QUBO matrix\n",
    "print(Q_tensor)\n"
   ]
  },
  {
   "cell_type": "code",
   "execution_count": 91,
   "metadata": {},
   "outputs": [
    {
     "data": {
      "text/plain": [
       "tensor([[-169., -598., -416., -520.],\n",
       "        [  -0., -529., -736., -920.],\n",
       "        [  -0.,   -0., -256., -640.],\n",
       "        [  -0.,   -0.,   -0., -400.]], dtype=torch.float64)"
      ]
     },
     "execution_count": 91,
     "metadata": {},
     "output_type": "execute_result"
    }
   ],
   "source": [
    "Q_tensor"
   ]
  },
  {
   "cell_type": "code",
   "execution_count": null,
   "metadata": {},
   "outputs": [],
   "source": []
  },
  {
   "cell_type": "markdown",
   "metadata": {},
   "source": [
    "## save problem"
   ]
  },
  {
   "cell_type": "code",
   "execution_count": 92,
   "metadata": {},
   "outputs": [],
   "source": [
    "# Generate the text file content\n",
    "lines = []\n",
    "lines.append(\"1\\n\")  # Number of problem instances\n",
    "\n",
    "# Collect non-zero entries\n",
    "non_zero_entries = []\n",
    "for i in range(n):\n",
    "    for j in range(i, n):\n",
    "        if Q[i][j] != 0:\n",
    "            non_zero_entries.append((i + 1, j + 1, int(Q[i][j])))\n",
    "\n",
    "# Add the number of variables and number of non-zero entries\n",
    "lines.append(f\"{n} {len(non_zero_entries)}\\n\")\n",
    "\n",
    "# Add the non-zero entries to lines\n",
    "for entry in non_zero_entries:\n",
    "    i, j, value = entry\n",
    "    lines.append(f\"{i} {j} {value}\\n\")\n",
    "\n",
    "# Write to file\n",
    "with open(\"../data/qubo/qubo_problem_small.txt\", \"w\") as f:\n",
    "    f.writelines(lines)"
   ]
  },
  {
   "cell_type": "code",
   "execution_count": null,
   "metadata": {},
   "outputs": [],
   "source": []
  },
  {
   "cell_type": "markdown",
   "metadata": {},
   "source": [
    "## load problem"
   ]
  },
  {
   "cell_type": "code",
   "execution_count": 93,
   "metadata": {},
   "outputs": [
    {
     "name": "stdout",
     "output_type": "stream",
     "text": [
      "Instance has been loaded\n"
     ]
    }
   ],
   "source": [
    "problem = QUBO(\"../data/qubo/qubo_problem_small.txt\", 0, device)"
   ]
  },
  {
   "cell_type": "code",
   "execution_count": 94,
   "metadata": {},
   "outputs": [
    {
     "data": {
      "text/plain": [
       "<COProblems.QUBO.QUBO at 0x11922d5e0>"
      ]
     },
     "execution_count": 94,
     "metadata": {},
     "output_type": "execute_result"
    }
   ],
   "source": [
    "problem"
   ]
  },
  {
   "cell_type": "code",
   "execution_count": 95,
   "metadata": {},
   "outputs": [
    {
     "data": {
      "text/plain": [
       "tensor([[-169., -598., -416., -520.],\n",
       "        [-598., -529., -736., -920.],\n",
       "        [-416., -736., -256., -640.],\n",
       "        [-520., -920., -640., -400.]])"
      ]
     },
     "execution_count": 95,
     "metadata": {},
     "output_type": "execute_result"
    }
   ],
   "source": [
    "problem.Q"
   ]
  },
  {
   "cell_type": "code",
   "execution_count": 96,
   "metadata": {},
   "outputs": [
    {
     "data": {
      "text/plain": [
       "array([[-169., -598., -416., -520.],\n",
       "       [  -0., -529., -736., -920.],\n",
       "       [  -0.,   -0., -256., -640.],\n",
       "       [  -0.,   -0.,   -0., -400.]])"
      ]
     },
     "execution_count": 96,
     "metadata": {},
     "output_type": "execute_result"
    }
   ],
   "source": [
    "Q"
   ]
  },
  {
   "cell_type": "code",
   "execution_count": 97,
   "metadata": {},
   "outputs": [
    {
     "data": {
      "text/plain": [
       "(tensor([4, 4, 4, 4]), tensor([4, 4, 4, 4]))"
      ]
     },
     "execution_count": 97,
     "metadata": {},
     "output_type": "execute_result"
    }
   ],
   "source": [
    "torch.count_nonzero(problem.Q, dim=0), torch.count_nonzero(problem.Q, dim=1)"
   ]
  },
  {
   "cell_type": "code",
   "execution_count": 98,
   "metadata": {},
   "outputs": [
    {
     "data": {
      "text/plain": [
       "(tensor([1, 2, 3, 4]), tensor([4, 3, 2, 1]))"
      ]
     },
     "execution_count": 98,
     "metadata": {},
     "output_type": "execute_result"
    }
   ],
   "source": [
    "torch.count_nonzero(Q_tensor, dim=0), torch.count_nonzero(Q_tensor, dim=1)"
   ]
  },
  {
   "cell_type": "code",
   "execution_count": 99,
   "metadata": {},
   "outputs": [
    {
     "data": {
      "text/plain": [
       "tensor([  -0., -529., -736., -920.], dtype=torch.float64)"
      ]
     },
     "execution_count": 99,
     "metadata": {},
     "output_type": "execute_result"
    }
   ],
   "source": [
    "Q_tensor[1]"
   ]
  },
  {
   "cell_type": "code",
   "execution_count": 100,
   "metadata": {},
   "outputs": [
    {
     "data": {
      "text/plain": [
       "tensor([-598., -529., -736., -920.])"
      ]
     },
     "execution_count": 100,
     "metadata": {},
     "output_type": "execute_result"
    }
   ],
   "source": [
    "problem.Q[1]"
   ]
  },
  {
   "cell_type": "code",
   "execution_count": null,
   "metadata": {},
   "outputs": [],
   "source": []
  }
 ],
 "metadata": {
  "kernelspec": {
   "display_name": "myenv",
   "language": "python",
   "name": "python3"
  },
  "language_info": {
   "codemirror_mode": {
    "name": "ipython",
    "version": 3
   },
   "file_extension": ".py",
   "mimetype": "text/x-python",
   "name": "python",
   "nbconvert_exporter": "python",
   "pygments_lexer": "ipython3",
   "version": "3.9.19"
  }
 },
 "nbformat": 4,
 "nbformat_minor": 2
}
