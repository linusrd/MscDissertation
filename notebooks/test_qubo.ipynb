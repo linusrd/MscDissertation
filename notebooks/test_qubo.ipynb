{
 "cells": [
  {
   "cell_type": "code",
   "execution_count": 1,
   "metadata": {},
   "outputs": [],
   "source": [
    "import sys\n",
    "sys.path.insert(1, '/Users/linusrandud/Documents/UoM/ERP/MscDissertation/Deep-Opt')"
   ]
  },
  {
   "cell_type": "code",
   "execution_count": 2,
   "metadata": {},
   "outputs": [],
   "source": [
    "import torch\n",
    "\n",
    "from COProblems.MKP import MKP\n",
    "from COProblems.QUBO import QUBO\n",
    "from Models.DOAE import DOAE\n",
    "from OptimAE import OptimAEHandler\n",
    "import json"
   ]
  },
  {
   "cell_type": "code",
   "execution_count": 3,
   "metadata": {},
   "outputs": [],
   "source": [
    "import wandb\n",
    "import matplotlib.pyplot as plt"
   ]
  },
  {
   "cell_type": "code",
   "execution_count": null,
   "metadata": {},
   "outputs": [],
   "source": []
  },
  {
   "cell_type": "code",
   "execution_count": 4,
   "metadata": {},
   "outputs": [
    {
     "name": "stdout",
     "output_type": "stream",
     "text": [
      "cpu\n"
     ]
    }
   ],
   "source": [
    "# Initialize device\n",
    "device = torch.device(\"cpu\")\n",
    "print(device)\n",
    "\n",
    "# Define the file path and problem type\n",
    "file_paths = ['../data/qubo/tpp_qubo20.txt']\n",
    "problem_type = 'QUBO'\n",
    "use_wandb = True  # Set to True if using Weights & Biases\n",
    "check_constraints = True # Set to True for contraints checking inside DO"
   ]
  },
  {
   "cell_type": "code",
   "execution_count": 5,
   "metadata": {},
   "outputs": [
    {
     "name": "stderr",
     "output_type": "stream",
     "text": [
      "Failed to detect the name of this notebook, you can set it manually with the WANDB_NOTEBOOK_NAME environment variable to enable code saving.\n"
     ]
    },
    {
     "name": "stdout",
     "output_type": "stream",
     "text": [
      "Instance has been loaded\n"
     ]
    },
    {
     "name": "stderr",
     "output_type": "stream",
     "text": [
      "\u001b[34m\u001b[1mwandb\u001b[0m: Currently logged in as: \u001b[33mlinusrd\u001b[0m. Use \u001b[1m`wandb login --relogin`\u001b[0m to force relogin\n"
     ]
    },
    {
     "data": {
      "text/html": [
       "wandb version 0.17.5 is available!  To upgrade, please run:\n",
       " $ pip install wandb --upgrade"
      ],
      "text/plain": [
       "<IPython.core.display.HTML object>"
      ]
     },
     "metadata": {},
     "output_type": "display_data"
    },
    {
     "data": {
      "text/html": [
       "Tracking run with wandb version 0.17.1"
      ],
      "text/plain": [
       "<IPython.core.display.HTML object>"
      ]
     },
     "metadata": {},
     "output_type": "display_data"
    },
    {
     "data": {
      "text/html": [
       "Run data is saved locally in <code>/Users/linusrandud/Documents/UoM/ERP/MscDissertation/notebooks/wandb/run-20240722_234930-th2kctzl</code>"
      ],
      "text/plain": [
       "<IPython.core.display.HTML object>"
      ]
     },
     "metadata": {},
     "output_type": "display_data"
    },
    {
     "data": {
      "text/html": [
       "Syncing run <strong><a href='https://wandb.ai/linusrd/Deep%20Optimization%20with%20Constraints/runs/th2kctzl' target=\"_blank\">twilight-river-5</a></strong> to <a href='https://wandb.ai/linusrd/Deep%20Optimization%20with%20Constraints' target=\"_blank\">Weights & Biases</a> (<a href='https://wandb.me/run' target=\"_blank\">docs</a>)<br/>"
      ],
      "text/plain": [
       "<IPython.core.display.HTML object>"
      ]
     },
     "metadata": {},
     "output_type": "display_data"
    },
    {
     "data": {
      "text/html": [
       " View project at <a href='https://wandb.ai/linusrd/Deep%20Optimization%20with%20Constraints' target=\"_blank\">https://wandb.ai/linusrd/Deep%20Optimization%20with%20Constraints</a>"
      ],
      "text/plain": [
       "<IPython.core.display.HTML object>"
      ]
     },
     "metadata": {},
     "output_type": "display_data"
    },
    {
     "data": {
      "text/html": [
       " View run at <a href='https://wandb.ai/linusrd/Deep%20Optimization%20with%20Constraints/runs/th2kctzl' target=\"_blank\">https://wandb.ai/linusrd/Deep%20Optimization%20with%20Constraints/runs/th2kctzl</a>"
      ],
      "text/plain": [
       "<IPython.core.display.HTML object>"
      ]
     },
     "metadata": {},
     "output_type": "display_data"
    },
    {
     "name": "stdout",
     "output_type": "stream",
     "text": [
      "Min pop fitness: -22500.0, Mean pop fitness : -22474.3046875\n",
      "Adding layer\n",
      "Learning from population\n",
      "Optimising population\n",
      "Min pop fitness: -22500.0, Mean pop fitness : -22487.376953125\n",
      "Evaluations: 302913\n",
      "Adding layer\n",
      "Learning from population\n",
      "Optimising population\n",
      "Min pop fitness: -22500.0, Mean pop fitness : -22491.322265625\n",
      "Evaluations: 557344\n",
      "Adding layer\n",
      "Learning from population\n",
      "Optimising population\n",
      "Min pop fitness: -22500.0, Mean pop fitness : -22492.947265625\n",
      "Evaluations: 792190\n",
      "Adding layer\n",
      "Learning from population\n",
      "Optimising population\n",
      "Min pop fitness: -22500.0, Mean pop fitness : -22493.728515625\n",
      "Evaluations: 1016087\n",
      "Adding layer\n",
      "Learning from population\n",
      "Optimising population\n",
      "Min pop fitness: -22500.0, Mean pop fitness : -22494.154296875\n",
      "Evaluations: 1233718\n",
      "Adding layer\n",
      "Learning from population\n",
      "Optimising population\n",
      "Min pop fitness: -22500.0, Mean pop fitness : -22494.39453125\n",
      "Evaluations: 1448489\n",
      "Learning from population\n",
      "Optimising population\n",
      "Min pop fitness: -22500.0, Mean pop fitness : -22494.55078125\n",
      "Evaluations: 1661436\n",
      "Learning from population\n",
      "Optimising population\n",
      "Min pop fitness: -22500.0, Mean pop fitness : -22494.685546875\n",
      "Evaluations: 1874146\n",
      "Learning from population\n",
      "Optimising population\n",
      "Min pop fitness: -22500.0, Mean pop fitness : -22494.765625\n",
      "Evaluations: 2086255\n",
      "Learning from population\n",
      "Optimising population\n",
      "Min pop fitness: -22500.0, Mean pop fitness : -22494.837890625\n",
      "Evaluations: 2297864\n",
      "Learning from population\n",
      "Optimising population\n",
      "Min pop fitness: -22500.0, Mean pop fitness : -22494.892578125\n",
      "Evaluations: 2509560\n",
      "Learning from population\n",
      "Optimising population\n",
      "Min pop fitness: -22500.0, Mean pop fitness : -22495.3515625\n",
      "Evaluations: 2728598\n",
      "Learning from population\n",
      "Optimising population\n",
      "Min pop fitness: -22500.0, Mean pop fitness : -22495.447265625\n",
      "Evaluations: 2940571\n",
      "Learning from population\n",
      "Optimising population\n",
      "Min pop fitness: -22500.0, Mean pop fitness : -22495.732421875\n",
      "Evaluations: 3157029\n",
      "Learning from population\n",
      "Optimising population\n",
      "Min pop fitness: -22500.0, Mean pop fitness : -22496.662109375\n",
      "Evaluations: 3386152\n",
      "Learning from population\n",
      "Optimising population\n",
      "Min pop fitness: -22500.0, Mean pop fitness : -22496.841796875\n",
      "Evaluations: 3599502\n",
      "Learning from population\n",
      "Optimising population\n",
      "Min pop fitness: -22500.0, Mean pop fitness : -22496.884765625\n",
      "Evaluations: 3810591\n",
      "Learning from population\n",
      "Optimising population\n",
      "Min pop fitness: -22500.0, Mean pop fitness : -22497.32421875\n",
      "Evaluations: 4029039\n",
      "Learning from population\n",
      "Optimising population\n",
      "Min pop fitness: -22500.0, Mean pop fitness : -22497.44921875\n",
      "Evaluations: 4241927\n",
      "Learning from population\n",
      "Optimising population\n",
      "Min pop fitness: -22500.0, Mean pop fitness : -22497.505859375\n",
      "Evaluations: 4452990\n",
      "Learning from population\n",
      "Optimising population\n",
      "Min pop fitness: -22500.0, Mean pop fitness : -22498.3671875\n",
      "Evaluations: 4680759\n",
      "Learning from population\n",
      "Optimising population\n",
      "Min pop fitness: -22500.0, Mean pop fitness : -22498.857421875\n",
      "Evaluations: 4901100\n",
      "Learning from population\n",
      "Optimising population\n",
      "Min pop fitness: -22500.0, Mean pop fitness : -22499.021484375\n",
      "Evaluations: 5114689\n",
      "Learning from population\n",
      "Optimising population\n",
      "Min pop fitness: -22500.0, Mean pop fitness : -22499.1171875\n",
      "Evaluations: 5326665\n",
      "Learning from population\n",
      "Optimising population\n",
      "Min pop fitness: -22500.0, Mean pop fitness : -22499.376953125\n",
      "Evaluations: 5541938\n",
      "Learning from population\n",
      "Optimising population\n",
      "Min pop fitness: -22500.0, Mean pop fitness : -22499.513671875\n",
      "Evaluations: 5753907\n",
      "Learning from population\n",
      "Optimising population\n",
      "Min pop fitness: -22500.0, Mean pop fitness : -22499.51953125\n",
      "Evaluations: 5964058\n",
      "Learning from population\n",
      "Optimising population\n",
      "Min pop fitness: -22500.0, Mean pop fitness : -22499.53515625\n",
      "Evaluations: 6174358\n",
      "Learning from population\n",
      "Optimising population\n",
      "Min pop fitness: -22500.0, Mean pop fitness : -22499.66796875\n",
      "Evaluations: 6387019\n",
      "Learning from population\n",
      "Optimising population\n",
      "Min pop fitness: -22500.0, Mean pop fitness : -22499.66796875\n",
      "Evaluations: 6597057\n",
      "Learning from population\n",
      "Optimising population\n",
      "Min pop fitness: -22500.0, Mean pop fitness : -22499.685546875\n",
      "Evaluations: 6807395\n",
      "Learning from population\n",
      "Optimising population\n",
      "Min pop fitness: -22500.0, Mean pop fitness : -22499.693359375\n",
      "Evaluations: 7017471\n",
      "Learning from population\n",
      "Optimising population\n",
      "Min pop fitness: -22500.0, Mean pop fitness : -22499.748046875\n",
      "Evaluations: 7228586\n",
      "Learning from population\n",
      "Optimising population\n",
      "Min pop fitness: -22500.0, Mean pop fitness : -22499.861328125\n",
      "Evaluations: 7440286\n",
      "Learning from population\n",
      "Optimising population\n",
      "Min pop fitness: -22500.0, Mean pop fitness : -22499.880859375\n",
      "Evaluations: 7650558\n",
      "Learning from population\n",
      "Optimising population\n",
      "Min pop fitness: -22500.0, Mean pop fitness : -22499.8828125\n",
      "Evaluations: 7860599\n",
      "Learning from population\n",
      "Optimising population\n",
      "Min pop fitness: -22500.0, Mean pop fitness : -22499.88671875\n",
      "Evaluations: 8070649\n",
      "Learning from population\n",
      "Optimising population\n",
      "Min pop fitness: -22500.0, Mean pop fitness : -22499.888671875\n",
      "Evaluations: 8280686\n",
      "Learning from population\n",
      "Optimising population\n",
      "Min pop fitness: -22500.0, Mean pop fitness : -22499.904296875\n",
      "Evaluations: 8490933\n",
      "Stopping early due to no significant change in mean fitness over the last 5 iterations.\n"
     ]
    }
   ],
   "source": [
    "jobs = {\n",
    "    1: {\"duration\": 13, \"release\": 0, \"deadline\": 100},\n",
    "    2: {\"duration\": 23, \"release\": 5, \"deadline\": 100},\n",
    "    3: {\"duration\": 13, \"release\": 20, \"deadline\": 100},\n",
    "    4: {\"duration\": 13, \"release\": 30, \"deadline\": 100},\n",
    "    5: {\"duration\": 13, \"release\": 35, \"deadline\": 100},\n",
    "    6: {\"duration\": 13, \"release\": 0, \"deadline\": 100},\n",
    "    7: {\"duration\": 13, \"release\": 130, \"deadline\": 150},\n",
    "    8: {\"duration\": 13, \"release\": 0, \"deadline\": 150},\n",
    "    9: {\"duration\": 23, \"release\": 0, \"deadline\": 150},\n",
    "    10: {\"duration\": 13, \"release\": 0, \"deadline\": 150},\n",
    "    11: {\"duration\": 10, \"release\": 0, \"deadline\": 100},\n",
    "    12: {\"duration\": 10, \"release\": 20, \"deadline\": 100},\n",
    "    13: {\"duration\": 10, \"release\": 0, \"deadline\": 100},\n",
    "    14: {\"duration\": 20, \"release\": 0, \"deadline\": 100},\n",
    "    15: {\"duration\": 25, \"release\": 0, \"deadline\": 100},\n",
    "    16: {\"duration\": 20, \"release\": 100, \"deadline\": 120},\n",
    "    17: {\"duration\": 10, \"release\": 0, \"deadline\": 100},\n",
    "    18: {\"duration\": 15, \"release\": 0, \"deadline\": 150},\n",
    "    19: {\"duration\": 10, \"release\": 0, \"deadline\": 150},\n",
    "    20: {\"duration\": 20, \"release\": 0, \"deadline\": 150},\n",
    "}\n",
    "\n",
    "# Parameters\n",
    "params = {\n",
    "    'change_tolerance': 20,\n",
    "    'problem_size': 20,\n",
    "    'pop_size': 10000,\n",
    "    'dropout_prob': 0.2,\n",
    "    'l1_coef': 0.0001,\n",
    "    'l2_coef': 0.0001,\n",
    "    'learning_rate': 0.002,\n",
    "    'max_depth': 6,\n",
    "    'compression_ratio': 0.8,\n",
    "    'problem_instance_id': 0,\n",
    "    'deepest_only': True,\n",
    "    'encode': True,\n",
    "    'repair_solutions': True,\n",
    "    'patience': 5,  # Number of iterations to wait\n",
    "    'delta_mean_population': 0.1,  # Threshold for mean population change\n",
    "    'check_constraints': check_constraints,\n",
    "    'penalty_mult': 5\n",
    "}\n",
    "\n",
    "# Initialize problem\n",
    "if problem_type == 'QUBO':\n",
    "    problem = QUBO(file_paths[0], params['problem_instance_id'], device)\n",
    "    if check_constraints:\n",
    "        problem.jobs = jobs\n",
    "elif problem_type == 'MKP':\n",
    "    problem = MKP(file_paths[0], file_paths[1], params['problem_instance_id'], device)\n",
    "else:\n",
    "    raise ValueError(\"Unsupported problem type\")\n",
    "\n",
    "# Unpack parameters\n",
    "change_tolerance = params['change_tolerance']\n",
    "problem_size = params['problem_size']\n",
    "pop_size = params['pop_size']\n",
    "dropout_prob = params['dropout_prob']\n",
    "l1_coef = params['l1_coef']\n",
    "l2_coef = params['l2_coef']\n",
    "lr = params['learning_rate']\n",
    "max_depth = params['max_depth']\n",
    "compression_ratio = params['compression_ratio']\n",
    "hidden_size = problem_size\n",
    "\n",
    "# Initialize model and handler\n",
    "model = DOAE(problem_size, dropout_prob, device)\n",
    "handler = OptimAEHandler(model, problem, device)\n",
    "\n",
    "if use_wandb:\n",
    "    if check_constraints:\n",
    "        wandb.init(project=\"Deep Optimization with Constraints\", tags=[problem_type, 'Check Constraints'])\n",
    "    else:\n",
    "        wandb.init(project=\"Deep Optimization with Constraints\", tags=[problem_type])\n",
    "    wandb.config.update(params)\n",
    "    wandb.log_artifact(file_paths[0], type='dataset')\n",
    "    if problem_type == 'MKP':\n",
    "        wandb.log_artifact(file_paths[1], type='dataset')\n",
    "\n",
    "    # Log the job parameters as a separate file if needed\n",
    "    job_params_path = 'job_params.json'\n",
    "    with open(job_params_path, 'w') as f:\n",
    "        json.dump(jobs, f)\n",
    "    wandb.log_artifact(job_params_path, type='dataset')\n",
    "\n",
    "# Generate initial population\n",
    "population, fitnesses = handler.generate_population(pop_size, params['check_constraints'], params['penalty_mult'])\n",
    "population, fitnesses, _, _ = handler.hilldescent(population, fitnesses, change_tolerance, params['check_constraints'], params['penalty_mult'])\n",
    "handler.print_statistics_min(fitnesses)\n",
    "\n",
    "total_eval = 0\n",
    "depth = 0\n",
    "\n",
    "# Store metrics for custom plotting\n",
    "mean_fitnesses = []\n",
    "min_max_fitnesses = []\n",
    "total_evaluations = []\n",
    "mean_fitness_changes = []\n",
    "\n",
    "while True:\n",
    "    if depth < max_depth:\n",
    "        print(\"Adding layer\")\n",
    "        hidden_size = round(hidden_size * compression_ratio)\n",
    "        model.transition(hidden_size)\n",
    "        depth += 1\n",
    "        optimizer = torch.optim.Adam(model.parameters(), lr=lr, weight_decay=l2_coef)\n",
    "    \n",
    "    print(\"Learning from population\")\n",
    "    handler.learn_from_population(population, optimizer, l1_coef=l1_coef, batch_size=pop_size)\n",
    "    \n",
    "    print(\"Optimising population\")\n",
    "    population, fitnesses, evaluations, done = handler.optimise_solutions_min(\n",
    "        population, fitnesses, change_tolerance, encode=params['encode'], repair_solutions=params['repair_solutions'], deepest_only=params['deepest_only'], \n",
    "        check_constraints=params['check_constraints'], penalty_mult=params['penalty_mult']\n",
    "    )\n",
    "    handler.print_statistics_min(fitnesses)\n",
    "\n",
    "    mean_fitness = fitnesses.mean().item()\n",
    "    min_max_fitness = fitnesses.min().item()\n",
    "    total_eval += evaluations\n",
    "\n",
    "    mean_fitnesses.append(mean_fitness)\n",
    "    min_max_fitnesses.append(min_max_fitness)\n",
    "    total_evaluations.append(total_eval)\n",
    "\n",
    "    if use_wandb:\n",
    "        wandb.log({\n",
    "            \"mean_fitness\": mean_fitness,\n",
    "            \"min_max_fitness\": min_max_fitness,\n",
    "            \"total_eval\": total_eval,\n",
    "            \"depth\": depth\n",
    "        })\n",
    "\n",
    "    print(f\"Evaluations: {total_eval}\")\n",
    "    \n",
    "    if len(mean_fitnesses) > 1:\n",
    "        mean_fitness_change = abs(mean_fitnesses[-1] - mean_fitnesses[-2])\n",
    "        mean_fitness_changes.append(mean_fitness_change)\n",
    "        \n",
    "        if len(mean_fitness_changes) >= params['patience']:\n",
    "            recent_changes = mean_fitness_changes[-params['patience']:]\n",
    "            if all(change < params['delta_mean_population'] for change in recent_changes):\n",
    "                print(f\"Stopping early due to no significant change in mean fitness over the last {params['patience']} iterations.\")\n",
    "                break\n",
    "    \n",
    "    if done:\n",
    "        print(f\"Optimum solution found.\")\n",
    "        break"
   ]
  },
  {
   "cell_type": "code",
   "execution_count": null,
   "metadata": {},
   "outputs": [],
   "source": []
  },
  {
   "cell_type": "code",
   "execution_count": 6,
   "metadata": {},
   "outputs": [
    {
     "data": {
      "image/png": "[encoded data removed]",
      "text/plain": [
       "<Figure size 1000x600 with 1 Axes>"
      ]
     },
     "metadata": {},
     "output_type": "display_data"
    }
   ],
   "source": [
    "# Custom plot\n",
    "plt.figure(figsize=(10, 6))\n",
    "plt.plot(total_evaluations, mean_fitnesses, label='Mean Fitness')\n",
    "plt.plot(total_evaluations, min_max_fitnesses, label='Max Fitness')\n",
    "plt.axhline(y=problem.max_fitness, color='r', linestyle='--', label='Max Possible Fitness')\n",
    "plt.xlabel('Evaluations')\n",
    "plt.ylabel('Fitness')\n",
    "plt.title('Mean and Max Fitness over Evaluations')\n",
    "plt.legend()\n",
    "\n",
    "# Save plot to W&B\n",
    "wandb.log({\"fitness_plot\": wandb.Image(plt)})"
   ]
  },
  {
   "cell_type": "code",
   "execution_count": 7,
   "metadata": {},
   "outputs": [
    {
     "data": {
      "text/plain": [
       "tensor([[-1.,  1., -1.,  ...,  1., -1., -1.],\n",
       "        [-1.,  1., -1.,  ...,  1., -1., -1.],\n",
       "        [ 1., -1.,  1.,  ..., -1.,  1.,  1.],\n",
       "        ...,\n",
       "        [-1.,  1., -1.,  ...,  1., -1., -1.],\n",
       "        [-1.,  1., -1.,  ...,  1., -1., -1.],\n",
       "        [ 1., -1.,  1.,  ..., -1.,  1.,  1.]])"
      ]
     },
     "execution_count": 7,
     "metadata": {},
     "output_type": "execute_result"
    }
   ],
   "source": [
    "population"
   ]
  },
  {
   "cell_type": "code",
   "execution_count": 8,
   "metadata": {},
   "outputs": [
    {
     "data": {
      "text/plain": [
       "(tensor([-22500., -22500., -22500.,  ..., -22500., -22500., -22500.]), 10000)"
      ]
     },
     "execution_count": 8,
     "metadata": {},
     "output_type": "execute_result"
    }
   ],
   "source": [
    "fitnesses, len(fitnesses)"
   ]
  },
  {
   "cell_type": "code",
   "execution_count": 9,
   "metadata": {},
   "outputs": [],
   "source": [
    "import numpy as np"
   ]
  },
  {
   "cell_type": "code",
   "execution_count": 10,
   "metadata": {},
   "outputs": [],
   "source": [
    "def find_extreme_indices(fitnesses, mode='high'):\n",
    "    \"\"\"\n",
    "    Returns the indices of the highest or lowest values in the list based on the mode.\n",
    "\n",
    "    Args:\n",
    "        fitnesses (list or torch.Tensor): A list or tensor of fitness values.\n",
    "        mode (str): A string that can be either 'high' or 'low'. Defaults to 'high'.\n",
    "\n",
    "    Returns:\n",
    "        list: A list of indices corresponding to the extreme values.\n",
    "    \"\"\"\n",
    "    if mode not in ['high', 'low']:\n",
    "        raise ValueError(\"Mode should be either 'high' or 'low'\")\n",
    "\n",
    "    if mode == 'high':\n",
    "        extreme_value = max(fitnesses)\n",
    "    else:\n",
    "        extreme_value = min(fitnesses)\n",
    "\n",
    "    return [i for i, value in enumerate(fitnesses) if value == extreme_value]"
   ]
  },
  {
   "cell_type": "code",
   "execution_count": 11,
   "metadata": {},
   "outputs": [],
   "source": [
    "def convert_tensor_to_unique_np_arrays(tensor):\n",
    "    # Convert the tensor to a numpy array\n",
    "    np_array = tensor.numpy()\n",
    "    \n",
    "    # Replace -1 with 0\n",
    "    np_array[np_array == -1] = 0\n",
    "    \n",
    "    # Use a set to track unique arrays based on element ordering\n",
    "    unique_arrays = set()\n",
    "    \n",
    "    # Create a list to store unique numpy arrays\n",
    "    unique_np_arrays = []\n",
    "    \n",
    "    for arr in np_array:\n",
    "        # Convert the array to a tuple (hashable type) for uniqueness check\n",
    "        arr_tuple = tuple(arr)\n",
    "        \n",
    "        if arr_tuple not in unique_arrays:\n",
    "            unique_arrays.add(arr_tuple)\n",
    "            unique_np_arrays.append(arr)\n",
    "    \n",
    "    # Convert the list of unique arrays back to a numpy array\n",
    "    unique_np_array = np.array(unique_np_arrays)\n",
    "    \n",
    "    return unique_np_array"
   ]
  },
  {
   "cell_type": "code",
   "execution_count": 12,
   "metadata": {},
   "outputs": [],
   "source": [
    "def get_solutions(population, fitnesses, mode='low'):\n",
    "    return convert_tensor_to_unique_np_arrays(population[find_extreme_indices(fitnesses, mode)])"
   ]
  },
  {
   "cell_type": "code",
   "execution_count": 13,
   "metadata": {},
   "outputs": [],
   "source": [
    "import numpy as np\n",
    "\n",
    "# Job details as a dictionary\n",
    "jobs = {\n",
    "    1: {\"duration\": 13, \"release\": 0, \"deadline\": 100},\n",
    "    2: {\"duration\": 23, \"release\": 5, \"deadline\": 100},\n",
    "    3: {\"duration\": 13, \"release\": 20, \"deadline\": 100},\n",
    "    4: {\"duration\": 13, \"release\": 30, \"deadline\": 100},\n",
    "    5: {\"duration\": 13, \"release\": 35, \"deadline\": 100},\n",
    "    6: {\"duration\": 13, \"release\": 0, \"deadline\": 100},\n",
    "    7: {\"duration\": 13, \"release\": 130, \"deadline\": 150},\n",
    "    8: {\"duration\": 13, \"release\": 0, \"deadline\": 150},\n",
    "    9: {\"duration\": 23, \"release\": 0, \"deadline\": 150},\n",
    "    10: {\"duration\": 13, \"release\": 0, \"deadline\": 150},\n",
    "    11: {\"duration\": 10, \"release\": 0, \"deadline\": 100},\n",
    "    12: {\"duration\": 10, \"release\": 20, \"deadline\": 100},\n",
    "    13: {\"duration\": 10, \"release\": 0, \"deadline\": 100},\n",
    "    14: {\"duration\": 20, \"release\": 0, \"deadline\": 100},\n",
    "    15: {\"duration\": 25, \"release\": 0, \"deadline\": 100},\n",
    "    16: {\"duration\": 20, \"release\": 100, \"deadline\": 120},\n",
    "    17: {\"duration\": 10, \"release\": 0, \"deadline\": 100},\n",
    "    18: {\"duration\": 15, \"release\": 0, \"deadline\": 150},\n",
    "    19: {\"duration\": 10, \"release\": 0, \"deadline\": 150},\n",
    "    20: {\"duration\": 20, \"release\": 0, \"deadline\": 150},\n",
    "}\n",
    "\n",
    "def check_constraints(solution, jobs):\n",
    "    machine_jobs = [[], []]\n",
    "    makespans = [0, 0]\n",
    "    infeasible_count = 0\n",
    "    \n",
    "    # Distribute jobs to the respective machines\n",
    "    for job_index, job_assignment in enumerate(solution):\n",
    "        machine = int(job_assignment)\n",
    "        job_key = job_index + 1\n",
    "        job = jobs[job_key]\n",
    "        machine_jobs[machine].append((job_key, job))\n",
    "    \n",
    "    # Validate each machine's job schedule\n",
    "    for machine, assigned_jobs in enumerate(machine_jobs):\n",
    "        current_time = 0\n",
    "        # Sort jobs by release date first, then by deadline\n",
    "        for job_key, job in sorted(assigned_jobs, key=lambda x: (x[1]['deadline'], x[1]['release'])):\n",
    "            # Ensure the job starts at the earliest possible time that meets its release date\n",
    "            if current_time < job['release']:\n",
    "                current_time = job['release']\n",
    "            current_time += job['duration']\n",
    "            # Check if the job finishes before its deadline\n",
    "            if current_time > job['deadline']:\n",
    "                infeasible_count += 1\n",
    "                print(f\"Machine and Job makes it not feasible: {machine}/{job_key}\")\n",
    "                print(f\"Current time: {current_time}, Job's deadline: {job['deadline']}\")\n",
    "        makespans[machine] = current_time\n",
    "    \n",
    "    if infeasible_count > 0:\n",
    "        return False, infeasible_count, makespans\n",
    "    return True, infeasible_count, makespans\n"
   ]
  },
  {
   "cell_type": "code",
   "execution_count": 14,
   "metadata": {},
   "outputs": [
    {
     "data": {
      "text/plain": [
       "11"
      ]
     },
     "execution_count": 14,
     "metadata": {},
     "output_type": "execute_result"
    }
   ],
   "source": [
    "solutions = get_solutions(population, fitnesses, mode='low')\n",
    "len(solutions)"
   ]
  },
  {
   "cell_type": "code",
   "execution_count": 15,
   "metadata": {},
   "outputs": [
    {
     "data": {
      "text/plain": [
       "array([[0., 1., 0., 0., 0., 0., 1., 1., 1., 1., 0., 1., 1., 1., 0., 0.,\n",
       "        1., 1., 0., 0.],\n",
       "       [1., 0., 1., 1., 1., 1., 0., 0., 0., 0., 0., 0., 1., 0., 1., 1.,\n",
       "        0., 0., 1., 1.],\n",
       "       [0., 1., 0., 0., 0., 0., 1., 1., 1., 1., 1., 1., 0., 1., 0., 0.,\n",
       "        1., 1., 0., 0.],\n",
       "       [1., 0., 1., 1., 1., 1., 0., 0., 0., 0., 1., 0., 0., 0., 1., 1.,\n",
       "        0., 0., 1., 1.],\n",
       "       [0., 1., 0., 0., 0., 0., 1., 1., 1., 1., 1., 1., 1., 1., 0., 0.,\n",
       "        0., 1., 0., 0.],\n",
       "       [1., 1., 0., 1., 1., 1., 0., 0., 0., 0., 0., 0., 0., 0., 1., 1.,\n",
       "        0., 0., 1., 1.],\n",
       "       [1., 0., 1., 1., 1., 1., 0., 0., 0., 0., 0., 0., 0., 0., 1., 1.,\n",
       "        1., 0., 1., 1.],\n",
       "       [1., 1., 1., 0., 1., 1., 0., 0., 0., 0., 0., 0., 0., 0., 1., 1.,\n",
       "        0., 0., 1., 1.],\n",
       "       [1., 0., 0., 0., 0., 0., 1., 1., 1., 1., 1., 1., 1., 1., 0., 0.,\n",
       "        1., 1., 0., 0.],\n",
       "       [1., 0., 1., 1., 1., 1., 0., 0., 0., 0., 0., 1., 0., 0., 1., 1.,\n",
       "        0., 0., 1., 1.],\n",
       "       [0., 0., 1., 0., 0., 0., 1., 1., 1., 1., 1., 1., 1., 1., 0., 0.,\n",
       "        1., 1., 0., 0.]], dtype=float32)"
      ]
     },
     "execution_count": 15,
     "metadata": {},
     "output_type": "execute_result"
    }
   ],
   "source": [
    "solutions"
   ]
  },
  {
   "cell_type": "code",
   "execution_count": 16,
   "metadata": {},
   "outputs": [
    {
     "name": "stdout",
     "output_type": "stream",
     "text": [
      "Solution 1: Feasible = True, Infeasible Jobs = 0, Makespans = [150, 150]\n",
      "\n",
      "Solution 2: Feasible = True, Infeasible Jobs = 0, Makespans = [150, 150]\n",
      "\n",
      "Solution 3: Feasible = True, Infeasible Jobs = 0, Makespans = [150, 150]\n",
      "\n",
      "Solution 4: Feasible = True, Infeasible Jobs = 0, Makespans = [150, 150]\n",
      "\n",
      "Solution 5: Feasible = True, Infeasible Jobs = 0, Makespans = [150, 150]\n",
      "\n",
      "Solution 6: Feasible = True, Infeasible Jobs = 0, Makespans = [150, 150]\n",
      "\n",
      "Solution 7: Feasible = True, Infeasible Jobs = 0, Makespans = [150, 150]\n",
      "\n",
      "Solution 8: Feasible = True, Infeasible Jobs = 0, Makespans = [150, 150]\n",
      "\n",
      "Solution 9: Feasible = True, Infeasible Jobs = 0, Makespans = [150, 150]\n",
      "\n",
      "Solution 10: Feasible = True, Infeasible Jobs = 0, Makespans = [150, 150]\n",
      "\n",
      "Solution 11: Feasible = True, Infeasible Jobs = 0, Makespans = [150, 150]\n",
      "\n",
      "total_feasible_solutions: 11\n",
      "total_infeasible_solutions: 0\n"
     ]
    }
   ],
   "source": [
    "# Check all solutions\n",
    "total_feasible_solutions = 0\n",
    "total_infeasible_solutions = 0\n",
    "logs = []\n",
    "\n",
    "for i, solution in enumerate(solutions):\n",
    "    feasible, infeasible_jobs, makespans = check_constraints(solution, jobs)\n",
    "    if feasible:\n",
    "        total_feasible_solutions += 1\n",
    "    else:\n",
    "        total_infeasible_solutions += 1\n",
    "    \n",
    "    # Accumulate logs\n",
    "    logs.append({\n",
    "        'solution_number': i + 1,\n",
    "        'feasible': feasible,\n",
    "        'infeasible_jobs': infeasible_jobs,\n",
    "        'makespans': makespans\n",
    "    })\n",
    "    \n",
    "    print(f\"Solution {i + 1}: Feasible = {feasible}, Infeasible Jobs = {infeasible_jobs}, Makespans = {makespans}\")\n",
    "    print('')\n",
    "\n",
    "# Log all solutions at once\n",
    "wandb.log({\n",
    "    'solutions': logs,\n",
    "    'total_feasible_solutions_count': total_feasible_solutions,\n",
    "    'total_infeasible_solutions': total_infeasible_solutions\n",
    "})\n",
    "\n",
    "print(f'total_feasible_solutions: {total_feasible_solutions}')\n",
    "print(f'total_infeasible_solutions: {total_infeasible_solutions}')"
   ]
  },
  {
   "cell_type": "code",
   "execution_count": 17,
   "metadata": {},
   "outputs": [
    {
     "data": {
      "text/html": [
       "<style>\n",
       "    table.wandb td:nth-child(1) { padding: 0 10px; text-align: left ; width: auto;} td:nth-child(2) {text-align: left ; width: 100%}\n",
       "    .wandb-row { display: flex; flex-direction: row; flex-wrap: wrap; justify-content: flex-start; width: 100% }\n",
       "    .wandb-col { display: flex; flex-direction: column; flex-basis: 100%; flex: 1; padding: 10px; }\n",
       "    </style>\n",
       "<div class=\"wandb-row\"><div class=\"wandb-col\"><h3>Run history:</h3><br/><table class=\"wandb\"><tr><td>depth</td><td>▁▂▄▅▇██████████████████████████████████</td></tr><tr><td>mean_fitness</td><td>█▆▅▄▄▄▄▄▄▄▄▄▃▃▃▃▃▂▂▂▂▂▁▁▁▁▁▁▁▁▁▁▁▁▁▁▁▁▁</td></tr><tr><td>min_max_fitness</td><td>▁▁▁▁▁▁▁▁▁▁▁▁▁▁▁▁▁▁▁▁▁▁▁▁▁▁▁▁▁▁▁▁▁▁▁▁▁▁▁</td></tr><tr><td>total_eval</td><td>▁▁▁▂▂▂▂▂▃▃▃▃▃▃▄▄▄▄▄▅▅▅▅▅▅▆▆▆▆▆▇▇▇▇▇▇███</td></tr><tr><td>total_feasible_solutions_count</td><td>▁</td></tr><tr><td>total_infeasible_solutions</td><td>▁</td></tr></table><br/></div><div class=\"wandb-col\"><h3>Run summary:</h3><br/><table class=\"wandb\"><tr><td>depth</td><td>6</td></tr><tr><td>mean_fitness</td><td>-22499.9043</td></tr><tr><td>min_max_fitness</td><td>-22500.0</td></tr><tr><td>total_eval</td><td>8490933</td></tr><tr><td>total_feasible_solutions_count</td><td>11</td></tr><tr><td>total_infeasible_solutions</td><td>0</td></tr></table><br/></div></div>"
      ],
      "text/plain": [
       "<IPython.core.display.HTML object>"
      ]
     },
     "metadata": {},
     "output_type": "display_data"
    },
    {
     "data": {
      "text/html": [
       " View run <strong style=\"color:#cdcd00\">twilight-river-5</strong> at: <a href='https://wandb.ai/linusrd/Deep%20Optimization%20with%20Constraints/runs/th2kctzl' target=\"_blank\">https://wandb.ai/linusrd/Deep%20Optimization%20with%20Constraints/runs/th2kctzl</a><br/> View project at: <a href='https://wandb.ai/linusrd/Deep%20Optimization%20with%20Constraints' target=\"_blank\">https://wandb.ai/linusrd/Deep%20Optimization%20with%20Constraints</a><br/>Synced 6 W&B file(s), 1 media file(s), 2 artifact file(s) and 0 other file(s)"
      ],
      "text/plain": [
       "<IPython.core.display.HTML object>"
      ]
     },
     "metadata": {},
     "output_type": "display_data"
    },
    {
     "data": {
      "text/html": [
       "Find logs at: <code>./wandb/run-20240722_234930-th2kctzl/logs</code>"
      ],
      "text/plain": [
       "<IPython.core.display.HTML object>"
      ]
     },
     "metadata": {},
     "output_type": "display_data"
    }
   ],
   "source": [
    "# Finish the W&B run\n",
    "wandb.finish()"
   ]
  },
  {
   "cell_type": "code",
   "execution_count": null,
   "metadata": {},
   "outputs": [],
   "source": []
  },
  {
   "cell_type": "code",
   "execution_count": null,
   "metadata": {},
   "outputs": [],
   "source": []
  },
  {
   "cell_type": "markdown",
   "metadata": {},
   "source": [
    "# tests"
   ]
  },
  {
   "cell_type": "code",
   "execution_count": 18,
   "metadata": {},
   "outputs": [],
   "source": [
    "# jobs = {\n",
    "#     1: {\"duration\": 13, \"release\": 0, \"deadline\": 100},\n",
    "#     2: {\"duration\": 23, \"release\": 5, \"deadline\": 100},\n",
    "#     3: {\"duration\": 13, \"release\": 20, \"deadline\": 100},\n",
    "#     4: {\"duration\": 13, \"release\": 30, \"deadline\": 100},\n",
    "#     5: {\"duration\": 13, \"release\": 35, \"deadline\": 100},\n",
    "#     6: {\"duration\": 13, \"release\": 0, \"deadline\": 100},\n",
    "#     7: {\"duration\": 13, \"release\": 130, \"deadline\": 150},\n",
    "#     8: {\"duration\": 13, \"release\": 0, \"deadline\": 150},\n",
    "#     9: {\"duration\": 23, \"release\": 0, \"deadline\": 150},\n",
    "#     10: {\"duration\": 13, \"release\": 0, \"deadline\": 150},\n",
    "#     11: {\"duration\": 10, \"release\": 0, \"deadline\": 100},\n",
    "#     12: {\"duration\": 10, \"release\": 20, \"deadline\": 100},\n",
    "#     13: {\"duration\": 10, \"release\": 0, \"deadline\": 100},\n",
    "#     14: {\"duration\": 20, \"release\": 0, \"deadline\": 100},\n",
    "#     15: {\"duration\": 25, \"release\": 0, \"deadline\": 100},\n",
    "#     16: {\"duration\": 20, \"release\": 100, \"deadline\": 120},\n",
    "#     17: {\"duration\": 10, \"release\": 0, \"deadline\": 100},\n",
    "#     18: {\"duration\": 15, \"release\": 0, \"deadline\": 150},\n",
    "#     19: {\"duration\": 10, \"release\": 0, \"deadline\": 150},\n",
    "#     20: {\"duration\": 20, \"release\": 0, \"deadline\": 150},\n",
    "# }\n",
    "\n",
    "# # Parameters\n",
    "# params = {\n",
    "#     'change_tolerance': 20,\n",
    "#     'problem_size': 20,\n",
    "#     'pop_size': 10000,\n",
    "#     'dropout_prob': 0.2,\n",
    "#     'l1_coef': 0.0001,\n",
    "#     'l2_coef': 0.0001,\n",
    "#     'learning_rate': 0.002,\n",
    "#     'max_depth': 6,\n",
    "#     'compression_ratio': 0.8,\n",
    "#     'problem_instance_id': 0,\n",
    "#     'deepest_only': True,\n",
    "#     'encode': True,\n",
    "#     'repair_solutions': True,\n",
    "#     'patience': 5,  # Number of iterations to wait\n",
    "#     'delta_mean_population': 0.1,  # Threshold for mean population change\n",
    "#     'check_constraints': check_constraints\n",
    "# }\n",
    "\n",
    "# # Initialize problem\n",
    "# if problem_type == 'QUBO':\n",
    "#     problem = QUBO(file_paths[0], params['problem_instance_id'], device)\n",
    "# elif problem_type == 'MKP':\n",
    "#     problem = MKP(file_paths[0], file_paths[1], params['problem_instance_id'], device)\n",
    "# else:\n",
    "#     raise ValueError(\"Unsupported problem type\")\n",
    "\n",
    "# problem.jobs = jobs\n",
    "\n",
    "# # Unpack parameters\n",
    "# change_tolerance = params['change_tolerance']\n",
    "# problem_size = params['problem_size']\n",
    "# pop_size = params['pop_size']\n",
    "# dropout_prob = params['dropout_prob']\n",
    "# l1_coef = params['l1_coef']\n",
    "# l2_coef = params['l2_coef']\n",
    "# lr = params['learning_rate']\n",
    "# max_depth = params['max_depth']\n",
    "# compression_ratio = params['compression_ratio']\n",
    "# hidden_size = problem_size"
   ]
  },
  {
   "cell_type": "code",
   "execution_count": 19,
   "metadata": {},
   "outputs": [],
   "source": [
    "# # Initialize model and handler\n",
    "# model = DOAE(problem_size, dropout_prob, device)\n",
    "# handler = OptimAEHandler(model, problem, device)"
   ]
  },
  {
   "cell_type": "code",
   "execution_count": 20,
   "metadata": {},
   "outputs": [],
   "source": [
    "# model, handler"
   ]
  },
  {
   "cell_type": "code",
   "execution_count": 21,
   "metadata": {},
   "outputs": [],
   "source": [
    "# # Generate initial population\n",
    "# population, fitnesses = handler.generate_population(pop_size)"
   ]
  },
  {
   "cell_type": "code",
   "execution_count": 22,
   "metadata": {},
   "outputs": [],
   "source": [
    "# handler = OptimAEHandler(model, problem, device)"
   ]
  },
  {
   "cell_type": "code",
   "execution_count": 23,
   "metadata": {},
   "outputs": [],
   "source": [
    "# # Generate initial population\n",
    "# population, fitnesses = handler.generate_population(pop_size)\n",
    "# population, fitnesses, _, _ = handler.hilldescent(population, fitnesses, change_tolerance)"
   ]
  },
  {
   "cell_type": "code",
   "execution_count": 24,
   "metadata": {},
   "outputs": [],
   "source": [
    "# handler.print_statistics_min(fitnesses)"
   ]
  },
  {
   "cell_type": "code",
   "execution_count": 25,
   "metadata": {},
   "outputs": [],
   "source": [
    "# total_eval = 0\n",
    "# depth = 0\n",
    "\n",
    "# # Store metrics for custom plotting\n",
    "# mean_fitnesses = []\n",
    "# min_max_fitnesses = []\n",
    "# total_evaluations = []\n",
    "# mean_fitness_changes = []\n",
    "\n",
    "# while True:\n",
    "#     if depth < max_depth:\n",
    "#         print(\"Adding layer\")\n",
    "#         hidden_size = round(hidden_size * compression_ratio)\n",
    "#         model.transition(hidden_size)\n",
    "#         depth += 1\n",
    "#         optimizer = torch.optim.Adam(model.parameters(), lr=lr, weight_decay=l2_coef)\n",
    "    \n",
    "#     print(\"Learning from population\")\n",
    "#     handler.learn_from_population(population, optimizer, l1_coef=l1_coef, batch_size=pop_size)\n",
    "    \n",
    "#     print(\"Optimising population\")\n",
    "#     population, fitnesses, evaluations, done = handler.optimise_solutions_min(\n",
    "#         population, fitnesses, change_tolerance, encode=params['encode'], repair_solutions=params['repair_solutions'], deepest_only=params['deepest_only']\n",
    "#     )\n",
    "#     handler.print_statistics_min(fitnesses)\n",
    "\n",
    "#     mean_fitness = fitnesses.mean().item()\n",
    "#     min_max_fitness = fitnesses.min().item()\n",
    "#     total_eval += evaluations\n",
    "\n",
    "#     mean_fitnesses.append(mean_fitness)\n",
    "#     min_max_fitnesses.append(min_max_fitness)\n",
    "#     total_evaluations.append(total_eval)\n",
    "\n",
    "#     # if use_wandb:\n",
    "#     #     wandb.log({\n",
    "#     #         \"mean_fitness\": mean_fitness,\n",
    "#     #         \"min_max_fitness\": min_max_fitness,\n",
    "#     #         \"total_eval\": total_eval,\n",
    "#     #         \"depth\": depth\n",
    "#     #     })\n",
    "\n",
    "#     print(f\"Evaluations: {total_eval}\")\n",
    "    \n",
    "#     if len(mean_fitnesses) > 1:\n",
    "#         mean_fitness_change = abs(mean_fitnesses[-1] - mean_fitnesses[-2])\n",
    "#         mean_fitness_changes.append(mean_fitness_change)\n",
    "        \n",
    "#         if len(mean_fitness_changes) >= params['patience']:\n",
    "#             recent_changes = mean_fitness_changes[-params['patience']:]\n",
    "#             if all(change < params['delta_mean_population'] for change in recent_changes):\n",
    "#                 print(f\"Stopping early due to no significant change in mean fitness over the last {params['patience']} iterations.\")\n",
    "#                 break\n",
    "    \n",
    "#     if done:\n",
    "#         print(f\"Optimum solution found.\")\n",
    "#         break"
   ]
  },
  {
   "cell_type": "code",
   "execution_count": null,
   "metadata": {},
   "outputs": [],
   "source": []
  },
  {
   "cell_type": "code",
   "execution_count": null,
   "metadata": {},
   "outputs": [],
   "source": []
  },
  {
   "cell_type": "code",
   "execution_count": 26,
   "metadata": {},
   "outputs": [],
   "source": [
    "# # Initialize model and handler\n",
    "# model = DOAE(problem_size, dropout_prob, device)\n",
    "# handler = OptimAEHandler(model, problem, device)\n",
    "\n",
    "# # Generate initial population\n",
    "# population, fitnesses = handler.generate_population(pop_size)\n",
    "# population, fitnesses, _, _ = handler.hilldescent(population, fitnesses, change_tolerance, jobs, check_constraints)\n",
    "# handler.print_statistics_min(fitnesses)\n",
    "\n",
    "# total_eval = 0\n",
    "# depth = 0\n",
    "\n",
    "# # Store metrics for custom plotting\n",
    "# mean_fitnesses = []\n",
    "# min_max_fitnesses = []\n",
    "# total_evaluations = []\n",
    "# mean_fitness_changes = []\n",
    "\n",
    "# while True:\n",
    "#     if depth < max_depth:\n",
    "#         print(\"Adding layer\")\n",
    "#         hidden_size = round(hidden_size * compression_ratio)\n",
    "#         model.transition(hidden_size)\n",
    "#         depth += 1\n",
    "#         optimizer = torch.optim.Adam(model.parameters(), lr=lr, weight_decay=l2_coef)\n",
    "    \n",
    "#     print(\"Learning from population\")\n",
    "#     handler.learn_from_population(population, optimizer, l1_coef=l1_coef, batch_size=pop_size)\n",
    "    \n",
    "#     print(\"Optimising population\")\n",
    "#     population, fitnesses, evaluations, done = handler.optimise_solutions_min(\n",
    "#         population, fitnesses, change_tolerance, encode=params['encode'], repair_solutions=params['repair_solutions'], deepest_only=params['deepest_only'], jobs=jobs, check_constraints=check_constraints\n",
    "#     )\n",
    "#     handler.print_statistics_min(fitnesses)\n",
    "\n",
    "#     mean_fitness = fitnesses.mean().item()\n",
    "#     min_max_fitness = fitnesses.min().item()\n",
    "#     total_eval += evaluations\n",
    "\n",
    "#     mean_fitnesses.append(mean_fitness)\n",
    "#     min_max_fitnesses.append(min_max_fitness)\n",
    "#     total_evaluations.append(total_eval)\n",
    "\n",
    "#     if use_wandb:\n",
    "#         wandb.log({\n",
    "#             \"mean_fitness\": mean_fitness,\n",
    "#             \"min_max_fitness\": min_max_fitness,\n",
    "#             \"total_eval\": total_eval,\n",
    "#             \"depth\": depth\n",
    "#         })\n",
    "\n",
    "#     print(f\"Evaluations: {total_eval}\")\n",
    "    \n",
    "#     if len(mean_fitnesses) > 1:\n",
    "#         mean_fitness_change = abs(mean_fitnesses[-1] - mean_fitnesses[-2])\n",
    "#         mean_fitness_changes.append(mean_fitness_change)\n",
    "        \n",
    "#         if len(mean_fitness_changes) >= params['patience']:\n",
    "#             recent_changes = mean_fitness_changes[-params['patience']:]\n",
    "#             if all(change < params['delta_mean_population'] for change in recent_changes):\n",
    "#                 print(f\"Stopping early due to no significant change in mean fitness over the last {params['patience']} iterations.\")\n",
    "#                 break\n",
    "    \n",
    "#     if done:\n",
    "#         print(f\"Optimum solution found.\")\n",
    "#         break"
   ]
  },
  {
   "cell_type": "code",
   "execution_count": null,
   "metadata": {},
   "outputs": [],
   "source": []
  }
 ],
 "metadata": {
  "kernelspec": {
   "display_name": "myenv",
   "language": "python",
   "name": "python3"
  },
  "language_info": {
   "codemirror_mode": {
    "name": "ipython",
    "version": 3
   },
   "file_extension": ".py",
   "mimetype": "text/x-python",
   "name": "python",
   "nbconvert_exporter": "python",
   "pygments_lexer": "ipython3",
   "version": "3.9.19"
  }
 },
 "nbformat": 4,
 "nbformat_minor": 2
}
