{
 "cells": [
  {
   "cell_type": "code",
   "execution_count": 1,
   "metadata": {},
   "outputs": [],
   "source": [
    "import sys\n",
    "sys.path.insert(1, '/Users/linusrandud/Documents/UoM/ERP/MscDissertation/Deep-Opt')"
   ]
  },
  {
   "cell_type": "code",
   "execution_count": 2,
   "metadata": {},
   "outputs": [],
   "source": [
    "import torch\n",
    "\n",
    "from COProblems.MKP import MKP\n",
    "from COProblems.QUBO import QUBO\n",
    "from Models.DOAE import DOAE\n",
    "from OptimAE import OptimAEHandler"
   ]
  },
  {
   "cell_type": "code",
   "execution_count": 3,
   "metadata": {},
   "outputs": [],
   "source": [
    "import wandb\n",
    "import matplotlib.pyplot as plt"
   ]
  },
  {
   "cell_type": "code",
   "execution_count": null,
   "metadata": {},
   "outputs": [],
   "source": []
  },
  {
   "cell_type": "code",
   "execution_count": 4,
   "metadata": {},
   "outputs": [
    {
     "name": "stdout",
     "output_type": "stream",
     "text": [
      "cpu\n"
     ]
    }
   ],
   "source": [
    "# Initialize device\n",
    "device = torch.device(\"cpu\")\n",
    "print(device)\n",
    "\n",
    "# Define the file path and problem type\n",
    "file_paths = ['../data/qubo/bqp100.txt']\n",
    "problem_type = 'QUBO'\n",
    "use_wandb = True  # Set to True if using Weights & Biases"
   ]
  },
  {
   "cell_type": "code",
   "execution_count": 5,
   "metadata": {},
   "outputs": [
    {
     "name": "stderr",
     "output_type": "stream",
     "text": [
      "Failed to detect the name of this notebook, you can set it manually with the WANDB_NOTEBOOK_NAME environment variable to enable code saving.\n"
     ]
    },
    {
     "name": "stdout",
     "output_type": "stream",
     "text": [
      "Instance has been loaded\n"
     ]
    },
    {
     "name": "stderr",
     "output_type": "stream",
     "text": [
      "\u001b[34m\u001b[1mwandb\u001b[0m: Currently logged in as: \u001b[33mlinusrd\u001b[0m. Use \u001b[1m`wandb login --relogin`\u001b[0m to force relogin\n"
     ]
    },
    {
     "data": {
      "text/html": [
       "wandb version 0.17.2 is available!  To upgrade, please run:\n",
       " $ pip install wandb --upgrade"
      ],
      "text/plain": [
       "<IPython.core.display.HTML object>"
      ]
     },
     "metadata": {},
     "output_type": "display_data"
    },
    {
     "data": {
      "text/html": [
       "Tracking run with wandb version 0.17.1"
      ],
      "text/plain": [
       "<IPython.core.display.HTML object>"
      ]
     },
     "metadata": {},
     "output_type": "display_data"
    },
    {
     "data": {
      "text/html": [
       "Run data is saved locally in <code>/Users/linusrandud/Documents/UoM/ERP/MscDissertation/notebooks/wandb/run-20240622_143939-reqczkob</code>"
      ],
      "text/plain": [
       "<IPython.core.display.HTML object>"
      ]
     },
     "metadata": {},
     "output_type": "display_data"
    },
    {
     "data": {
      "text/html": [
       "Syncing run <strong><a href='https://wandb.ai/linusrd/Deep%20Optimization/runs/reqczkob' target=\"_blank\">likely-plant-23</a></strong> to <a href='https://wandb.ai/linusrd/Deep%20Optimization' target=\"_blank\">Weights & Biases</a> (<a href='https://wandb.me/run' target=\"_blank\">docs</a>)<br/>"
      ],
      "text/plain": [
       "<IPython.core.display.HTML object>"
      ]
     },
     "metadata": {},
     "output_type": "display_data"
    },
    {
     "data": {
      "text/html": [
       " View project at <a href='https://wandb.ai/linusrd/Deep%20Optimization' target=\"_blank\">https://wandb.ai/linusrd/Deep%20Optimization</a>"
      ],
      "text/plain": [
       "<IPython.core.display.HTML object>"
      ]
     },
     "metadata": {},
     "output_type": "display_data"
    },
    {
     "data": {
      "text/html": [
       " View run at <a href='https://wandb.ai/linusrd/Deep%20Optimization/runs/reqczkob' target=\"_blank\">https://wandb.ai/linusrd/Deep%20Optimization/runs/reqczkob</a>"
      ],
      "text/plain": [
       "<IPython.core.display.HTML object>"
      ]
     },
     "metadata": {},
     "output_type": "display_data"
    },
    {
     "name": "stdout",
     "output_type": "stream",
     "text": [
      "Max pop fitness: -10084.0, Mean pop fitness : -11914.7763671875\n",
      "Adding layer\n",
      "Learning from population\n",
      "Optimising population\n",
      "Max pop fitness: 4405.0, Mean pop fitness : 2693.491943359375\n",
      "Evaluations: 371188\n",
      "Adding layer\n",
      "Learning from population\n",
      "Optimising population\n",
      "Max pop fitness: 5862.0, Mean pop fitness : 4778.08984375\n",
      "Evaluations: 679250\n",
      "Adding layer\n",
      "Learning from population\n",
      "Optimising population\n",
      "Max pop fitness: 6402.0, Mean pop fitness : 5435.01904296875\n",
      "Evaluations: 875392\n",
      "Adding layer\n",
      "Learning from population\n",
      "Optimising population\n",
      "Max pop fitness: 6416.0, Mean pop fitness : 5575.705078125\n",
      "Evaluations: 1007744\n",
      "Adding layer\n",
      "Learning from population\n",
      "Optimising population\n",
      "Max pop fitness: 6416.0, Mean pop fitness : 5609.26416015625\n",
      "Evaluations: 1114113\n",
      "Adding layer\n",
      "Learning from population\n",
      "Optimising population\n",
      "Max pop fitness: 6416.0, Mean pop fitness : 5656.43212890625\n",
      "Evaluations: 1222343\n",
      "Learning from population\n",
      "Optimising population\n",
      "Max pop fitness: 6416.0, Mean pop fitness : 5666.384765625\n",
      "Evaluations: 1329377\n",
      "Learning from population\n",
      "Optimising population\n",
      "Max pop fitness: 6484.0, Mean pop fitness : 5673.35107421875\n",
      "Evaluations: 1432259\n",
      "Learning from population\n",
      "Optimising population\n",
      "Max pop fitness: 6556.0, Mean pop fitness : 5794.4501953125\n",
      "Evaluations: 1538293\n",
      "Learning from population\n",
      "Optimising population\n",
      "Max pop fitness: 6556.0, Mean pop fitness : 5811.10400390625\n",
      "Evaluations: 1640620\n",
      "Learning from population\n",
      "Optimising population\n",
      "Max pop fitness: 6556.0, Mean pop fitness : 5812.1748046875\n",
      "Evaluations: 1741790\n",
      "Learning from population\n",
      "Optimising population\n",
      "Max pop fitness: 6556.0, Mean pop fitness : 5813.31787109375\n",
      "Evaluations: 1842982\n",
      "Learning from population\n",
      "Optimising population\n",
      "Max pop fitness: 6556.0, Mean pop fitness : 5814.9208984375\n",
      "Evaluations: 1944180\n",
      "Learning from population\n",
      "Optimising population\n",
      "Max pop fitness: 6556.0, Mean pop fitness : 5817.22216796875\n",
      "Evaluations: 2045339\n",
      "Learning from population\n",
      "Optimising population\n",
      "Max pop fitness: 6556.0, Mean pop fitness : 5817.72412109375\n",
      "Evaluations: 2146522\n",
      "Learning from population\n",
      "Optimising population\n",
      "Max pop fitness: 6556.0, Mean pop fitness : 5817.958984375\n",
      "Evaluations: 2247575\n",
      "Learning from population\n",
      "Optimising population\n",
      "Max pop fitness: 6556.0, Mean pop fitness : 5817.958984375\n",
      "Evaluations: 2348575\n",
      "Learning from population\n",
      "Optimising population\n",
      "Max pop fitness: 6556.0, Mean pop fitness : 5817.958984375\n",
      "Evaluations: 2449575\n",
      "Learning from population\n",
      "Optimising population\n",
      "Max pop fitness: 6556.0, Mean pop fitness : 5817.958984375\n",
      "Evaluations: 2550575\n",
      "Stopping early due to no significant change in mean fitness over the last 3 iterations.\n"
     ]
    }
   ],
   "source": [
    "# Parameters\n",
    "params = {\n",
    "    'change_tolerance': 100,\n",
    "    'problem_size': 100,\n",
    "    'pop_size': 1000,\n",
    "    'dropout_prob': 0.2,\n",
    "    'l1_coef': 0.0001,\n",
    "    'l2_coef': 0.0001,\n",
    "    'learning_rate': 0.002,\n",
    "    'max_depth': 6,\n",
    "    'compression_ratio': 0.8,\n",
    "    'problem_instance_id': 0,\n",
    "    'deepest_only': True,\n",
    "    'encode': True,\n",
    "    'repair_solutions': True,\n",
    "    'patience': 3,  # Number of iterations to wait\n",
    "    'delta_mean_population': 0.1  # Threshold for mean population change\n",
    "}\n",
    "\n",
    "# Initialize problem\n",
    "if problem_type == 'QUBO':\n",
    "    problem = QUBO(file_paths[0], params['problem_instance_id'], device)\n",
    "elif problem_type == 'MKP':\n",
    "    problem = MKP(file_paths[0], file_paths[1], params['problem_instance_id'], device)\n",
    "else:\n",
    "    raise ValueError(\"Unsupported problem type\")\n",
    "\n",
    "# Unpack parameters\n",
    "change_tolerance = params['change_tolerance']\n",
    "problem_size = params['problem_size']\n",
    "pop_size = params['pop_size']\n",
    "dropout_prob = params['dropout_prob']\n",
    "l1_coef = params['l1_coef']\n",
    "l2_coef = params['l2_coef']\n",
    "lr = params['learning_rate']\n",
    "max_depth = params['max_depth']\n",
    "compression_ratio = params['compression_ratio']\n",
    "hidden_size = problem_size\n",
    "\n",
    "# Initialize model and handler\n",
    "model = DOAE(problem_size, dropout_prob, device)\n",
    "handler = OptimAEHandler(model, problem, device)\n",
    "\n",
    "if use_wandb:\n",
    "    wandb.init(project=\"Deep Optimization\", tags=[problem_type])\n",
    "    wandb.config.update(params)\n",
    "    wandb.log_artifact(file_paths[0], type='dataset')\n",
    "    if problem_type == 'MKP':\n",
    "        wandb.log_artifact(file_paths[1], type='dataset')\n",
    "\n",
    "# Generate initial population\n",
    "population, fitnesses = handler.generate_population(pop_size)\n",
    "population, fitnesses, _, _ = handler.hilldescent(population, fitnesses, change_tolerance)\n",
    "handler.print_statistics(fitnesses)\n",
    "\n",
    "total_eval = 0\n",
    "depth = 0\n",
    "\n",
    "# Store metrics for custom plotting\n",
    "mean_fitnesses = []\n",
    "max_fitnesses = []\n",
    "total_evaluations = []\n",
    "mean_fitness_changes = []\n",
    "\n",
    "while True:\n",
    "    if depth < max_depth:\n",
    "        print(\"Adding layer\")\n",
    "        hidden_size = round(hidden_size * compression_ratio)\n",
    "        model.transition(hidden_size)\n",
    "        depth += 1\n",
    "        optimizer = torch.optim.Adam(model.parameters(), lr=lr, weight_decay=l2_coef)\n",
    "    \n",
    "    print(\"Learning from population\")\n",
    "    handler.learn_from_population(population, optimizer, l1_coef=l1_coef, batch_size=pop_size)\n",
    "    \n",
    "    print(\"Optimising population\")\n",
    "    population, fitnesses, evaluations, done = handler.optimise_solutions(\n",
    "        population, fitnesses, change_tolerance, encode=params['encode'], repair_solutions=params['repair_solutions'], deepest_only=params['deepest_only']\n",
    "    )\n",
    "    handler.print_statistics(fitnesses)\n",
    "\n",
    "    mean_fitness = fitnesses.mean().item()\n",
    "    max_fitness = fitnesses.max().item()\n",
    "    total_eval += evaluations\n",
    "\n",
    "    mean_fitnesses.append(mean_fitness)\n",
    "    max_fitnesses.append(max_fitness)\n",
    "    total_evaluations.append(total_eval)\n",
    "\n",
    "    if use_wandb:\n",
    "        wandb.log({\n",
    "            \"mean_fitness\": mean_fitness,\n",
    "            \"max_fitness\": max_fitness,\n",
    "            \"total_eval\": total_eval,\n",
    "            \"depth\": depth\n",
    "        })\n",
    "\n",
    "    print(f\"Evaluations: {total_eval}\")\n",
    "    \n",
    "    if len(mean_fitnesses) > 1:\n",
    "        mean_fitness_change = abs(mean_fitnesses[-1] - mean_fitnesses[-2])\n",
    "        mean_fitness_changes.append(mean_fitness_change)\n",
    "        \n",
    "        if len(mean_fitness_changes) >= params['patience']:\n",
    "            recent_changes = mean_fitness_changes[-params['patience']:]\n",
    "            if all(change < params['delta_mean_population'] for change in recent_changes):\n",
    "                print(f\"Stopping early due to no significant change in mean fitness over the last {params['patience']} iterations.\")\n",
    "                break\n",
    "    \n",
    "    if done:\n",
    "        print(f\"Optimum solution found.\")\n",
    "        break"
   ]
  },
  {
   "cell_type": "code",
   "execution_count": null,
   "metadata": {},
   "outputs": [],
   "source": []
  },
  {
   "cell_type": "code",
   "execution_count": 6,
   "metadata": {},
   "outputs": [
    {
     "data": {
      "text/html": [
       "<style>\n",
       "    table.wandb td:nth-child(1) { padding: 0 10px; text-align: left ; width: auto;} td:nth-child(2) {text-align: left ; width: 100%}\n",
       "    .wandb-row { display: flex; flex-direction: row; flex-wrap: wrap; justify-content: flex-start; width: 100% }\n",
       "    .wandb-col { display: flex; flex-direction: column; flex-basis: 100%; flex: 1; padding: 10px; }\n",
       "    </style>\n",
       "<div class=\"wandb-row\"><div class=\"wandb-col\"><h3>Run history:</h3><br/><table class=\"wandb\"><tr><td>depth</td><td>▁▂▄▅▇██████████████</td></tr><tr><td>max_fitness</td><td>▁▆▇████████████████</td></tr><tr><td>mean_fitness</td><td>▁▆▇▇███████████████</td></tr><tr><td>total_eval</td><td>▁▂▃▃▃▄▄▄▅▅▅▆▆▆▇▇▇██</td></tr></table><br/></div><div class=\"wandb-col\"><h3>Run summary:</h3><br/><table class=\"wandb\"><tr><td>depth</td><td>6</td></tr><tr><td>max_fitness</td><td>6556.0</td></tr><tr><td>mean_fitness</td><td>5817.95898</td></tr><tr><td>total_eval</td><td>2550575</td></tr></table><br/></div></div>"
      ],
      "text/plain": [
       "<IPython.core.display.HTML object>"
      ]
     },
     "metadata": {},
     "output_type": "display_data"
    },
    {
     "data": {
      "text/html": [
       " View run <strong style=\"color:#cdcd00\">likely-plant-23</strong> at: <a href='https://wandb.ai/linusrd/Deep%20Optimization/runs/reqczkob' target=\"_blank\">https://wandb.ai/linusrd/Deep%20Optimization/runs/reqczkob</a><br/> View project at: <a href='https://wandb.ai/linusrd/Deep%20Optimization' target=\"_blank\">https://wandb.ai/linusrd/Deep%20Optimization</a><br/>Synced 6 W&B file(s), 1 media file(s), 1 artifact file(s) and 0 other file(s)"
      ],
      "text/plain": [
       "<IPython.core.display.HTML object>"
      ]
     },
     "metadata": {},
     "output_type": "display_data"
    },
    {
     "data": {
      "text/html": [
       "Find logs at: <code>./wandb/run-20240622_143939-reqczkob/logs</code>"
      ],
      "text/plain": [
       "<IPython.core.display.HTML object>"
      ]
     },
     "metadata": {},
     "output_type": "display_data"
    },
    {
     "data": {
      "image/png": "[encoded data removed]",
      "text/plain": [
       "<Figure size 1000x600 with 1 Axes>"
      ]
     },
     "metadata": {},
     "output_type": "display_data"
    }
   ],
   "source": [
    "# Custom plot\n",
    "plt.figure(figsize=(10, 6))\n",
    "plt.plot(total_evaluations, mean_fitnesses, label='Mean Fitness')\n",
    "plt.plot(total_evaluations, max_fitnesses, label='Max Fitness')\n",
    "plt.axhline(y=problem.max_fitness, color='r', linestyle='--', label='Max Possible Fitness')\n",
    "plt.xlabel('Evaluations')\n",
    "plt.ylabel('Fitness')\n",
    "plt.title('Mean and Max Fitness over Evaluations')\n",
    "plt.legend()\n",
    "\n",
    "# Save plot to W&B\n",
    "wandb.log({\"fitness_plot\": wandb.Image(plt)})\n",
    "\n",
    "# Finish the W&B run\n",
    "wandb.finish()"
   ]
  },
  {
   "cell_type": "code",
   "execution_count": null,
   "metadata": {},
   "outputs": [],
   "source": []
  },
  {
   "cell_type": "code",
   "execution_count": null,
   "metadata": {},
   "outputs": [],
   "source": []
  },
  {
   "cell_type": "code",
   "execution_count": null,
   "metadata": {},
   "outputs": [],
   "source": []
  },
  {
   "cell_type": "code",
   "execution_count": null,
   "metadata": {},
   "outputs": [],
   "source": []
  }
 ],
 "metadata": {
  "kernelspec": {
   "display_name": "myenv",
   "language": "python",
   "name": "python3"
  },
  "language_info": {
   "codemirror_mode": {
    "name": "ipython",
    "version": 3
   },
   "file_extension": ".py",
   "mimetype": "text/x-python",
   "name": "python",
   "nbconvert_exporter": "python",
   "pygments_lexer": "ipython3",
   "version": "3.9.19"
  }
 },
 "nbformat": 4,
 "nbformat_minor": 2
}
