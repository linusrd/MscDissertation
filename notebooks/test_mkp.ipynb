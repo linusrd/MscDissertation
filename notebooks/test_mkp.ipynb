{
 "cells": [
  {
   "cell_type": "code",
   "execution_count": 1,
   "metadata": {},
   "outputs": [],
   "source": [
    "import sys\n",
    "sys.path.insert(1, '/Users/linusrandud/Documents/UoM/ERP/MscDissertation/Deep-Opt')"
   ]
  },
  {
   "cell_type": "code",
   "execution_count": 2,
   "metadata": {},
   "outputs": [],
   "source": [
    "import torch\n",
    "\n",
    "from COProblems.MKP import MKP\n",
    "from COProblems.QUBO import QUBO\n",
    "from Models.DOAE import DOAE\n",
    "from OptimAE import OptimAEHandler"
   ]
  },
  {
   "cell_type": "code",
   "execution_count": 3,
   "metadata": {},
   "outputs": [],
   "source": [
    "import wandb\n",
    "import matplotlib.pyplot as plt"
   ]
  },
  {
   "cell_type": "code",
   "execution_count": 4,
   "metadata": {},
   "outputs": [
    {
     "name": "stdout",
     "output_type": "stream",
     "text": [
      "cpu\n"
     ]
    }
   ],
   "source": [
    "# Initialize device\n",
    "device = torch.device(\"cpu\")\n",
    "print(device)\n",
    "\n",
    "# Define the file path and problem type\n",
    "file_paths = ['../data/mkp/problems30d.txt', '../data/mkp/fitnesses30d.txt']\n",
    "problem_type = 'MKP'\n",
    "use_wandb = True  # Set to True if using Weights & Biases"
   ]
  },
  {
   "cell_type": "code",
   "execution_count": 5,
   "metadata": {},
   "outputs": [
    {
     "name": "stderr",
     "output_type": "stream",
     "text": [
      "Failed to detect the name of this notebook, you can set it manually with the WANDB_NOTEBOOK_NAME environment variable to enable code saving.\n"
     ]
    },
    {
     "name": "stdout",
     "output_type": "stream",
     "text": [
      "This instance has 100 items and 30 dimensions\n",
      "Max possible fitness for this instance: 41560.0\n"
     ]
    },
    {
     "name": "stderr",
     "output_type": "stream",
     "text": [
      "\u001b[34m\u001b[1mwandb\u001b[0m: Currently logged in as: \u001b[33mlinusrd\u001b[0m. Use \u001b[1m`wandb login --relogin`\u001b[0m to force relogin\n"
     ]
    },
    {
     "data": {
      "text/html": [
       "wandb version 0.17.2 is available!  To upgrade, please run:\n",
       " $ pip install wandb --upgrade"
      ],
      "text/plain": [
       "<IPython.core.display.HTML object>"
      ]
     },
     "metadata": {},
     "output_type": "display_data"
    },
    {
     "data": {
      "text/html": [
       "Tracking run with wandb version 0.17.1"
      ],
      "text/plain": [
       "<IPython.core.display.HTML object>"
      ]
     },
     "metadata": {},
     "output_type": "display_data"
    },
    {
     "data": {
      "text/html": [
       "Run data is saved locally in <code>/Users/linusrandud/Documents/UoM/ERP/MscDissertation/notebooks/wandb/run-20240622_115114-wefpny9b</code>"
      ],
      "text/plain": [
       "<IPython.core.display.HTML object>"
      ]
     },
     "metadata": {},
     "output_type": "display_data"
    },
    {
     "data": {
      "text/html": [
       "Syncing run <strong><a href='https://wandb.ai/linusrd/Deep%20Optimization/runs/wefpny9b' target=\"_blank\">brisk-tree-13</a></strong> to <a href='https://wandb.ai/linusrd/Deep%20Optimization' target=\"_blank\">Weights & Biases</a> (<a href='https://wandb.me/run' target=\"_blank\">docs</a>)<br/>"
      ],
      "text/plain": [
       "<IPython.core.display.HTML object>"
      ]
     },
     "metadata": {},
     "output_type": "display_data"
    },
    {
     "data": {
      "text/html": [
       " View project at <a href='https://wandb.ai/linusrd/Deep%20Optimization' target=\"_blank\">https://wandb.ai/linusrd/Deep%20Optimization</a>"
      ],
      "text/plain": [
       "<IPython.core.display.HTML object>"
      ]
     },
     "metadata": {},
     "output_type": "display_data"
    },
    {
     "data": {
      "text/html": [
       " View run at <a href='https://wandb.ai/linusrd/Deep%20Optimization/runs/wefpny9b' target=\"_blank\">https://wandb.ai/linusrd/Deep%20Optimization/runs/wefpny9b</a>"
      ],
      "text/plain": [
       "<IPython.core.display.HTML object>"
      ]
     },
     "metadata": {},
     "output_type": "display_data"
    },
    {
     "data": {
      "text/html": [
       "Finishing last run (ID:wefpny9b) before initializing another..."
      ],
      "text/plain": [
       "<IPython.core.display.HTML object>"
      ]
     },
     "metadata": {},
     "output_type": "display_data"
    },
    {
     "data": {
      "text/html": [
       " View run <strong style=\"color:#cdcd00\">brisk-tree-13</strong> at: <a href='https://wandb.ai/linusrd/Deep%20Optimization/runs/wefpny9b' target=\"_blank\">https://wandb.ai/linusrd/Deep%20Optimization/runs/wefpny9b</a><br/> View project at: <a href='https://wandb.ai/linusrd/Deep%20Optimization' target=\"_blank\">https://wandb.ai/linusrd/Deep%20Optimization</a><br/>Synced 5 W&B file(s), 0 media file(s), 2 artifact file(s) and 0 other file(s)"
      ],
      "text/plain": [
       "<IPython.core.display.HTML object>"
      ]
     },
     "metadata": {},
     "output_type": "display_data"
    },
    {
     "data": {
      "text/html": [
       "Find logs at: <code>./wandb/run-20240622_115114-wefpny9b/logs</code>"
      ],
      "text/plain": [
       "<IPython.core.display.HTML object>"
      ]
     },
     "metadata": {},
     "output_type": "display_data"
    },
    {
     "data": {
      "text/html": [
       "Successfully finished last run (ID:wefpny9b). Initializing new run:<br/>"
      ],
      "text/plain": [
       "<IPython.core.display.HTML object>"
      ]
     },
     "metadata": {},
     "output_type": "display_data"
    },
    {
     "data": {
      "text/html": [
       "wandb version 0.17.2 is available!  To upgrade, please run:\n",
       " $ pip install wandb --upgrade"
      ],
      "text/plain": [
       "<IPython.core.display.HTML object>"
      ]
     },
     "metadata": {},
     "output_type": "display_data"
    },
    {
     "data": {
      "text/html": [
       "Tracking run with wandb version 0.17.1"
      ],
      "text/plain": [
       "<IPython.core.display.HTML object>"
      ]
     },
     "metadata": {},
     "output_type": "display_data"
    },
    {
     "data": {
      "text/html": [
       "Run data is saved locally in <code>/Users/linusrandud/Documents/UoM/ERP/MscDissertation/notebooks/wandb/run-20240622_115120-zei8rule</code>"
      ],
      "text/plain": [
       "<IPython.core.display.HTML object>"
      ]
     },
     "metadata": {},
     "output_type": "display_data"
    },
    {
     "data": {
      "text/html": [
       "Syncing run <strong><a href='https://wandb.ai/linusrd/Deep%20Optimization/runs/zei8rule' target=\"_blank\">avid-energy-14</a></strong> to <a href='https://wandb.ai/linusrd/Deep%20Optimization' target=\"_blank\">Weights & Biases</a> (<a href='https://wandb.me/run' target=\"_blank\">docs</a>)<br/>"
      ],
      "text/plain": [
       "<IPython.core.display.HTML object>"
      ]
     },
     "metadata": {},
     "output_type": "display_data"
    },
    {
     "data": {
      "text/html": [
       " View project at <a href='https://wandb.ai/linusrd/Deep%20Optimization' target=\"_blank\">https://wandb.ai/linusrd/Deep%20Optimization</a>"
      ],
      "text/plain": [
       "<IPython.core.display.HTML object>"
      ]
     },
     "metadata": {},
     "output_type": "display_data"
    },
    {
     "data": {
      "text/html": [
       " View run at <a href='https://wandb.ai/linusrd/Deep%20Optimization/runs/zei8rule' target=\"_blank\">https://wandb.ai/linusrd/Deep%20Optimization/runs/zei8rule</a>"
      ],
      "text/plain": [
       "<IPython.core.display.HTML object>"
      ]
     },
     "metadata": {},
     "output_type": "display_data"
    },
    {
     "name": "stdout",
     "output_type": "stream",
     "text": [
      "Max pop fitness: 36821.0, Mean pop fitness : 33487.97265625\n",
      "Adding layer\n",
      "Learning from population\n",
      "Optimising population\n",
      "Max pop fitness: 41260.0, Mean pop fitness : 40567.77734375\n",
      "Evaluations: 251448\n",
      "Adding layer\n",
      "Learning from population\n",
      "Optimising population\n",
      "Max pop fitness: 41290.0, Mean pop fitness : 40786.0546875\n",
      "Evaluations: 399677\n",
      "Adding layer\n",
      "Learning from population\n",
      "Optimising population\n",
      "Max pop fitness: 41300.0, Mean pop fitness : 40898.52734375\n",
      "Evaluations: 536468\n",
      "Adding layer\n",
      "Learning from population\n",
      "Optimising population\n",
      "Max pop fitness: 41457.0, Mean pop fitness : 40963.33984375\n",
      "Evaluations: 658933\n",
      "Adding layer\n",
      "Learning from population\n",
      "Optimising population\n",
      "Max pop fitness: 41457.0, Mean pop fitness : 41014.9765625\n",
      "Evaluations: 779784\n",
      "Adding layer\n",
      "Learning from population\n",
      "Optimising population\n",
      "Max pop fitness: 41457.0, Mean pop fitness : 41040.828125\n",
      "Evaluations: 892615\n",
      "Learning from population\n",
      "Optimising population\n",
      "Max pop fitness: 41457.0, Mean pop fitness : 41055.48046875\n",
      "Evaluations: 999687\n",
      "Learning from population\n",
      "Optimising population\n",
      "Max pop fitness: 41457.0, Mean pop fitness : 41066.94140625\n",
      "Evaluations: 1107016\n",
      "Learning from population\n",
      "Optimising population\n",
      "Max pop fitness: 41457.0, Mean pop fitness : 41077.6328125\n",
      "Evaluations: 1212705\n",
      "Learning from population\n",
      "Optimising population\n",
      "Max pop fitness: 41457.0, Mean pop fitness : 41088.34375\n",
      "Evaluations: 1319055\n",
      "Learning from population\n",
      "Optimising population\n",
      "Max pop fitness: 41457.0, Mean pop fitness : 41095.6171875\n",
      "Evaluations: 1423179\n",
      "Learning from population\n",
      "Optimising population\n",
      "Max pop fitness: 41457.0, Mean pop fitness : 41105.3046875\n",
      "Evaluations: 1527826\n",
      "Learning from population\n",
      "Optimising population\n",
      "Max pop fitness: 41457.0, Mean pop fitness : 41111.2578125\n",
      "Evaluations: 1631558\n",
      "Learning from population\n",
      "Optimising population\n",
      "Max pop fitness: 41457.0, Mean pop fitness : 41115.7421875\n",
      "Evaluations: 1734904\n",
      "Learning from population\n",
      "Optimising population\n",
      "Max pop fitness: 41457.0, Mean pop fitness : 41120.328125\n",
      "Evaluations: 1838047\n",
      "Learning from population\n",
      "Optimising population\n",
      "Max pop fitness: 41457.0, Mean pop fitness : 41123.39453125\n",
      "Evaluations: 1941628\n",
      "Learning from population\n",
      "Optimising population\n",
      "Max pop fitness: 41457.0, Mean pop fitness : 41127.03125\n",
      "Evaluations: 2044797\n",
      "Learning from population\n",
      "Optimising population\n",
      "Max pop fitness: 41457.0, Mean pop fitness : 41129.76953125\n",
      "Evaluations: 2147220\n",
      "Learning from population\n",
      "Optimising population\n",
      "Max pop fitness: 41457.0, Mean pop fitness : 41133.0703125\n",
      "Evaluations: 2250317\n",
      "Learning from population\n",
      "Optimising population\n",
      "Max pop fitness: 41457.0, Mean pop fitness : 41136.31640625\n",
      "Evaluations: 2353111\n",
      "Learning from population\n",
      "Optimising population\n",
      "Max pop fitness: 41519.0, Mean pop fitness : 41139.34375\n",
      "Evaluations: 2455654\n",
      "Learning from population\n",
      "Optimising population\n",
      "Max pop fitness: 41519.0, Mean pop fitness : 41142.78125\n",
      "Evaluations: 2558980\n",
      "Learning from population\n",
      "Optimising population\n",
      "Max pop fitness: 41519.0, Mean pop fitness : 41145.93359375\n",
      "Evaluations: 2661662\n",
      "Learning from population\n",
      "Optimising population\n",
      "Max pop fitness: 41519.0, Mean pop fitness : 41148.34375\n",
      "Evaluations: 2764205\n",
      "Learning from population\n",
      "Optimising population\n",
      "Max pop fitness: 41519.0, Mean pop fitness : 41150.00390625\n",
      "Evaluations: 2866578\n",
      "Learning from population\n",
      "Optimising population\n",
      "Max pop fitness: 41519.0, Mean pop fitness : 41151.6484375\n",
      "Evaluations: 2968922\n",
      "Learning from population\n",
      "Optimising population\n",
      "Max pop fitness: 41519.0, Mean pop fitness : 41154.6328125\n",
      "Evaluations: 3071877\n",
      "Learning from population\n",
      "Optimising population\n",
      "Max pop fitness: 41519.0, Mean pop fitness : 41157.07421875\n",
      "Evaluations: 3174406\n",
      "Learning from population\n",
      "Optimising population\n",
      "Max pop fitness: 41519.0, Mean pop fitness : 41158.16796875\n",
      "Evaluations: 3276214\n",
      "Learning from population\n",
      "Optimising population\n",
      "Max pop fitness: 41519.0, Mean pop fitness : 41159.7265625\n",
      "Evaluations: 3378213\n",
      "Learning from population\n",
      "Optimising population\n",
      "Max pop fitness: 41519.0, Mean pop fitness : 41162.390625\n",
      "Evaluations: 3480586\n",
      "Learning from population\n",
      "Optimising population\n",
      "Max pop fitness: 41519.0, Mean pop fitness : 41165.2734375\n",
      "Evaluations: 3583366\n",
      "Learning from population\n",
      "Optimising population\n",
      "Max pop fitness: 41519.0, Mean pop fitness : 41167.9140625\n",
      "Evaluations: 3685859\n",
      "Learning from population\n",
      "Optimising population\n",
      "Max pop fitness: 41519.0, Mean pop fitness : 41170.0859375\n",
      "Evaluations: 3788221\n",
      "Learning from population\n",
      "Optimising population\n",
      "Max pop fitness: 41519.0, Mean pop fitness : 41171.91015625\n",
      "Evaluations: 3890708\n",
      "Learning from population\n",
      "Optimising population\n",
      "Max pop fitness: 41519.0, Mean pop fitness : 41173.2578125\n",
      "Evaluations: 3992760\n",
      "Learning from population\n",
      "Optimising population\n",
      "Max pop fitness: 41519.0, Mean pop fitness : 41174.42578125\n",
      "Evaluations: 4094587\n",
      "Learning from population\n",
      "Optimising population\n",
      "Max pop fitness: 41519.0, Mean pop fitness : 41175.5234375\n",
      "Evaluations: 4196066\n",
      "Learning from population\n",
      "Optimising population\n",
      "Max pop fitness: 41519.0, Mean pop fitness : 41176.359375\n",
      "Evaluations: 4297698\n",
      "Learning from population\n",
      "Optimising population\n",
      "Max pop fitness: 41519.0, Mean pop fitness : 41177.796875\n",
      "Evaluations: 4399459\n",
      "Learning from population\n",
      "Optimising population\n",
      "Max pop fitness: 41519.0, Mean pop fitness : 41179.60546875\n",
      "Evaluations: 4501689\n",
      "Learning from population\n",
      "Optimising population\n",
      "Max pop fitness: 41519.0, Mean pop fitness : 41181.81640625\n",
      "Evaluations: 4603641\n",
      "Learning from population\n",
      "Optimising population\n",
      "Max pop fitness: 41519.0, Mean pop fitness : 41183.7265625\n",
      "Evaluations: 4705637\n",
      "Learning from population\n",
      "Optimising population\n",
      "Max pop fitness: 41519.0, Mean pop fitness : 41185.0859375\n",
      "Evaluations: 4807235\n",
      "Learning from population\n",
      "Optimising population\n",
      "Max pop fitness: 41519.0, Mean pop fitness : 41185.984375\n",
      "Evaluations: 4908578\n",
      "Learning from population\n",
      "Optimising population\n",
      "Max pop fitness: 41519.0, Mean pop fitness : 41187.7734375\n",
      "Evaluations: 5010781\n",
      "Learning from population\n",
      "Optimising population\n",
      "Max pop fitness: 41519.0, Mean pop fitness : 41189.9609375\n",
      "Evaluations: 5112957\n",
      "Learning from population\n",
      "Optimising population\n",
      "Max pop fitness: 41519.0, Mean pop fitness : 41190.5546875\n",
      "Evaluations: 5214593\n",
      "Learning from population\n",
      "Optimising population\n",
      "Max pop fitness: 41519.0, Mean pop fitness : 41191.2109375\n",
      "Evaluations: 5316392\n",
      "Learning from population\n",
      "Optimising population\n",
      "Max pop fitness: 41519.0, Mean pop fitness : 41191.9375\n",
      "Evaluations: 5417992\n",
      "Learning from population\n",
      "Optimising population\n",
      "Max pop fitness: 41519.0, Mean pop fitness : 41192.11328125\n",
      "Evaluations: 5519190\n",
      "Learning from population\n",
      "Optimising population\n",
      "Max pop fitness: 41519.0, Mean pop fitness : 41193.01953125\n",
      "Evaluations: 5620721\n",
      "Learning from population\n",
      "Optimising population\n",
      "Max pop fitness: 41519.0, Mean pop fitness : 41193.5859375\n",
      "Evaluations: 5721886\n",
      "Learning from population\n",
      "Optimising population\n",
      "Max pop fitness: 41519.0, Mean pop fitness : 41193.92578125\n",
      "Evaluations: 5823131\n",
      "Learning from population\n",
      "Optimising population\n",
      "Max pop fitness: 41519.0, Mean pop fitness : 41194.4140625\n",
      "Evaluations: 5924489\n",
      "Learning from population\n",
      "Optimising population\n",
      "Max pop fitness: 41519.0, Mean pop fitness : 41194.83203125\n",
      "Evaluations: 6025785\n",
      "Learning from population\n",
      "Optimising population\n",
      "Max pop fitness: 41519.0, Mean pop fitness : 41195.4140625\n",
      "Evaluations: 6127588\n",
      "Learning from population\n",
      "Optimising population\n",
      "Max pop fitness: 41519.0, Mean pop fitness : 41195.671875\n",
      "Evaluations: 6228829\n",
      "Learning from population\n",
      "Optimising population\n",
      "Max pop fitness: 41519.0, Mean pop fitness : 41196.4609375\n",
      "Evaluations: 6330261\n",
      "Learning from population\n",
      "Optimising population\n",
      "Max pop fitness: 41519.0, Mean pop fitness : 41197.2265625\n",
      "Evaluations: 6431776\n",
      "Learning from population\n",
      "Optimising population\n",
      "Max pop fitness: 41519.0, Mean pop fitness : 41197.83203125\n",
      "Evaluations: 6532961\n",
      "Learning from population\n",
      "Optimising population\n",
      "Max pop fitness: 41519.0, Mean pop fitness : 41198.3515625\n",
      "Evaluations: 6634651\n",
      "Learning from population\n",
      "Optimising population\n",
      "Max pop fitness: 41519.0, Mean pop fitness : 41198.8359375\n",
      "Evaluations: 6735733\n",
      "Learning from population\n",
      "Optimising population\n",
      "Max pop fitness: 41519.0, Mean pop fitness : 41199.13671875\n",
      "Evaluations: 6837047\n",
      "Learning from population\n",
      "Optimising population\n",
      "Max pop fitness: 41519.0, Mean pop fitness : 41199.546875\n",
      "Evaluations: 6938162\n",
      "Learning from population\n",
      "Optimising population\n",
      "Max pop fitness: 41519.0, Mean pop fitness : 41200.19140625\n",
      "Evaluations: 7039737\n",
      "Learning from population\n",
      "Optimising population\n",
      "Max pop fitness: 41519.0, Mean pop fitness : 41200.5625\n",
      "Evaluations: 7141256\n",
      "Learning from population\n",
      "Optimising population\n",
      "Max pop fitness: 41519.0, Mean pop fitness : 41201.2109375\n",
      "Evaluations: 7242912\n",
      "Learning from population\n",
      "Optimising population\n",
      "Max pop fitness: 41519.0, Mean pop fitness : 41201.75390625\n",
      "Evaluations: 7344205\n",
      "Learning from population\n",
      "Optimising population\n",
      "Max pop fitness: 41519.0, Mean pop fitness : 41202.06640625\n",
      "Evaluations: 7445559\n",
      "Learning from population\n",
      "Optimising population\n",
      "Max pop fitness: 41519.0, Mean pop fitness : 41202.703125\n",
      "Evaluations: 7546900\n",
      "Learning from population\n",
      "Optimising population\n",
      "Max pop fitness: 41519.0, Mean pop fitness : 41202.79296875\n",
      "Evaluations: 7648110\n",
      "Learning from population\n",
      "Optimising population\n",
      "Max pop fitness: 41519.0, Mean pop fitness : 41203.3125\n",
      "Evaluations: 7749460\n",
      "Learning from population\n",
      "Optimising population\n",
      "Max pop fitness: 41519.0, Mean pop fitness : 41203.81640625\n",
      "Evaluations: 7850803\n",
      "Learning from population\n",
      "Optimising population\n",
      "Max pop fitness: 41519.0, Mean pop fitness : 41204.578125\n",
      "Evaluations: 7952020\n",
      "Learning from population\n",
      "Optimising population\n",
      "Max pop fitness: 41519.0, Mean pop fitness : 41205.1484375\n",
      "Evaluations: 8053415\n",
      "Learning from population\n",
      "Optimising population\n",
      "Max pop fitness: 41519.0, Mean pop fitness : 41205.21875\n",
      "Evaluations: 8154504\n",
      "Learning from population\n",
      "Optimising population\n",
      "Max pop fitness: 41519.0, Mean pop fitness : 41205.484375\n",
      "Evaluations: 8255812\n",
      "Learning from population\n",
      "Optimising population\n",
      "Max pop fitness: 41519.0, Mean pop fitness : 41205.953125\n",
      "Evaluations: 8357132\n",
      "Learning from population\n",
      "Optimising population\n",
      "Max pop fitness: 41519.0, Mean pop fitness : 41206.1796875\n",
      "Evaluations: 8458363\n",
      "Learning from population\n",
      "Optimising population\n",
      "Max pop fitness: 41519.0, Mean pop fitness : 41206.63671875\n",
      "Evaluations: 8559577\n",
      "Learning from population\n",
      "Optimising population\n",
      "Max pop fitness: 41519.0, Mean pop fitness : 41206.79296875\n",
      "Evaluations: 8660780\n",
      "Learning from population\n",
      "Optimising population\n",
      "Max pop fitness: 41519.0, Mean pop fitness : 41206.89453125\n",
      "Evaluations: 8761920\n",
      "Learning from population\n",
      "Optimising population\n",
      "Max pop fitness: 41519.0, Mean pop fitness : 41207.015625\n",
      "Evaluations: 8863014\n",
      "Learning from population\n",
      "Optimising population\n",
      "Max pop fitness: 41519.0, Mean pop fitness : 41207.1640625\n",
      "Evaluations: 8964077\n",
      "Learning from population\n",
      "Optimising population\n",
      "Max pop fitness: 41519.0, Mean pop fitness : 41207.6171875\n",
      "Evaluations: 9065500\n",
      "Learning from population\n",
      "Optimising population\n",
      "Max pop fitness: 41519.0, Mean pop fitness : 41208.96484375\n",
      "Evaluations: 9167162\n",
      "Learning from population\n",
      "Optimising population\n",
      "Max pop fitness: 41519.0, Mean pop fitness : 41209.37109375\n",
      "Evaluations: 9268839\n",
      "Learning from population\n",
      "Optimising population\n",
      "Max pop fitness: 41519.0, Mean pop fitness : 41209.9609375\n",
      "Evaluations: 9370444\n",
      "Learning from population\n",
      "Optimising population\n",
      "Max pop fitness: 41519.0, Mean pop fitness : 41210.46484375\n",
      "Evaluations: 9471924\n",
      "Learning from population\n",
      "Optimising population\n",
      "Max pop fitness: 41519.0, Mean pop fitness : 41210.98046875\n",
      "Evaluations: 9573478\n",
      "Learning from population\n",
      "Optimising population\n",
      "Max pop fitness: 41519.0, Mean pop fitness : 41211.54296875\n",
      "Evaluations: 9675000\n",
      "Learning from population\n",
      "Optimising population\n",
      "Max pop fitness: 41519.0, Mean pop fitness : 41211.76171875\n",
      "Evaluations: 9776138\n",
      "Learning from population\n",
      "Optimising population\n",
      "Max pop fitness: 41519.0, Mean pop fitness : 41212.2578125\n",
      "Evaluations: 9877535\n",
      "Learning from population\n",
      "Optimising population\n",
      "Max pop fitness: 41519.0, Mean pop fitness : 41212.4453125\n",
      "Evaluations: 9978749\n",
      "Learning from population\n",
      "Optimising population\n",
      "Max pop fitness: 41519.0, Mean pop fitness : 41212.92578125\n",
      "Evaluations: 10080087\n",
      "Learning from population\n",
      "Optimising population\n",
      "Max pop fitness: 41519.0, Mean pop fitness : 41213.53125\n",
      "Evaluations: 10181208\n",
      "Learning from population\n",
      "Optimising population\n",
      "Max pop fitness: 41519.0, Mean pop fitness : 41213.859375\n",
      "Evaluations: 10282654\n",
      "Learning from population\n",
      "Optimising population\n",
      "Max pop fitness: 41519.0, Mean pop fitness : 41213.9921875\n",
      "Evaluations: 10383844\n",
      "Learning from population\n",
      "Optimising population\n",
      "Max pop fitness: 41519.0, Mean pop fitness : 41214.0234375\n",
      "Evaluations: 10484949\n",
      "Learning from population\n",
      "Optimising population\n",
      "Max pop fitness: 41519.0, Mean pop fitness : 41214.578125\n",
      "Evaluations: 10586223\n",
      "Learning from population\n",
      "Optimising population\n",
      "Max pop fitness: 41519.0, Mean pop fitness : 41214.609375\n",
      "Evaluations: 10687321\n",
      "Learning from population\n",
      "Optimising population\n",
      "Max pop fitness: 41519.0, Mean pop fitness : 41215.203125\n",
      "Evaluations: 10788720\n",
      "Learning from population\n",
      "Optimising population\n",
      "Max pop fitness: 41519.0, Mean pop fitness : 41215.34765625\n",
      "Evaluations: 10889824\n",
      "Learning from population\n",
      "Optimising population\n",
      "Max pop fitness: 41519.0, Mean pop fitness : 41215.5859375\n",
      "Evaluations: 10991214\n",
      "Learning from population\n",
      "Optimising population\n",
      "Max pop fitness: 41519.0, Mean pop fitness : 41215.84375\n",
      "Evaluations: 11092381\n",
      "Learning from population\n",
      "Optimising population\n",
      "Max pop fitness: 41519.0, Mean pop fitness : 41215.9921875\n",
      "Evaluations: 11193608\n",
      "Learning from population\n",
      "Optimising population\n",
      "Max pop fitness: 41519.0, Mean pop fitness : 41216.171875\n",
      "Evaluations: 11294909\n",
      "Learning from population\n",
      "Optimising population\n",
      "Max pop fitness: 41519.0, Mean pop fitness : 41216.21484375\n",
      "Evaluations: 11395917\n",
      "Learning from population\n",
      "Optimising population\n",
      "Max pop fitness: 41519.0, Mean pop fitness : 41216.31640625\n",
      "Evaluations: 11496946\n",
      "Learning from population\n",
      "Optimising population\n",
      "Max pop fitness: 41519.0, Mean pop fitness : 41216.35546875\n",
      "Evaluations: 11598021\n",
      "Learning from population\n",
      "Optimising population\n",
      "Max pop fitness: 41519.0, Mean pop fitness : 41216.35546875\n",
      "Evaluations: 11699021\n",
      "Learning from population\n",
      "Optimising population\n",
      "Max pop fitness: 41519.0, Mean pop fitness : 41216.4921875\n",
      "Evaluations: 11800235\n",
      "Learning from population\n",
      "Optimising population\n",
      "Max pop fitness: 41519.0, Mean pop fitness : 41216.734375\n",
      "Evaluations: 11901576\n",
      "Learning from population\n",
      "Optimising population\n",
      "Max pop fitness: 41519.0, Mean pop fitness : 41216.85546875\n",
      "Evaluations: 12002781\n",
      "Learning from population\n",
      "Optimising population\n",
      "Max pop fitness: 41519.0, Mean pop fitness : 41216.85546875\n",
      "Evaluations: 12103781\n",
      "Learning from population\n",
      "Optimising population\n",
      "Max pop fitness: 41519.0, Mean pop fitness : 41216.88671875\n",
      "Evaluations: 12204880\n",
      "Learning from population\n",
      "Optimising population\n",
      "Max pop fitness: 41519.0, Mean pop fitness : 41216.90625\n",
      "Evaluations: 12305885\n",
      "Stopping early due to no significant change in mean fitness over the last 3 iterations.\n"
     ]
    }
   ],
   "source": [
    "# Parameters\n",
    "params = {\n",
    "    'change_tolerance': 100,\n",
    "    'problem_size': 100,\n",
    "    'pop_size': 1000,\n",
    "    'dropout_prob': 0.2,\n",
    "    'l1_coef': 0.0001,\n",
    "    'l2_coef': 0.0001,\n",
    "    'learning_rate': 0.002,\n",
    "    'max_depth': 6,\n",
    "    'compression_ratio': 0.8,\n",
    "    'problem_instance_id': 12,\n",
    "    'deepest_only': True,\n",
    "    'encode': True,\n",
    "    'repair_solutions': True,\n",
    "    'patience': 3,  # Number of iterations to wait\n",
    "    'delta_mean_population': 0.1  # Threshold for mean population change\n",
    "}\n",
    "\n",
    "# Initialize problem\n",
    "if problem_type == 'QUBO':\n",
    "    problem = QUBO(file_paths[0], params['problem_instance_id'], device)\n",
    "elif problem_type == 'MKP':\n",
    "    problem = MKP(file_paths[0], file_paths[1], params['problem_instance_id'], device)\n",
    "else:\n",
    "    raise ValueError(\"Unsupported problem type\")\n",
    "\n",
    "# Unpack parameters\n",
    "change_tolerance = params['change_tolerance']\n",
    "problem_size = params['problem_size']\n",
    "pop_size = params['pop_size']\n",
    "dropout_prob = params['dropout_prob']\n",
    "l1_coef = params['l1_coef']\n",
    "l2_coef = params['l2_coef']\n",
    "lr = params['learning_rate']\n",
    "max_depth = params['max_depth']\n",
    "compression_ratio = params['compression_ratio']\n",
    "hidden_size = problem_size\n",
    "\n",
    "# Initialize model and handler\n",
    "model = DOAE(problem_size, dropout_prob, device)\n",
    "handler = OptimAEHandler(model, problem, device)\n",
    "\n",
    "if use_wandb:\n",
    "    import wandb\n",
    "    wandb.init(project=\"Deep Optimization\", tags=[problem_type])\n",
    "    wandb.config.update(params)\n",
    "    wandb.log_artifact(file_paths[0], type='dataset')\n",
    "    if problem_type == 'MKP':\n",
    "        wandb.log_artifact(file_paths[1], type='dataset')\n",
    "\n",
    "# Generate initial population\n",
    "population, fitnesses = handler.generate_population(pop_size)\n",
    "population, fitnesses, _, _ = handler.hillclimb(population, fitnesses, change_tolerance)\n",
    "handler.print_statistics(fitnesses)\n",
    "\n",
    "total_eval = 0\n",
    "depth = 0\n",
    "\n",
    "# Store metrics for custom plotting\n",
    "mean_fitnesses = []\n",
    "max_fitnesses = []\n",
    "total_evaluations = []\n",
    "mean_fitness_changes = []\n",
    "\n",
    "while True:\n",
    "    if depth < max_depth:\n",
    "        print(\"Adding layer\")\n",
    "        hidden_size = round(hidden_size * compression_ratio)\n",
    "        model.transition(hidden_size)\n",
    "        depth += 1\n",
    "        optimizer = torch.optim.Adam(model.parameters(), lr=lr, weight_decay=l2_coef)\n",
    "    \n",
    "    print(\"Learning from population\")\n",
    "    handler.learn_from_population(population, optimizer, l1_coef=l1_coef, batch_size=pop_size)\n",
    "    \n",
    "    print(\"Optimising population\")\n",
    "    population, fitnesses, evaluations, done = handler.optimise_solutions(\n",
    "        population, fitnesses, change_tolerance, encode=params['encode'], repair_solutions=params['repair_solutions'], deepest_only=params['deepest_only']\n",
    "    )\n",
    "    handler.print_statistics(fitnesses)\n",
    "\n",
    "    mean_fitness = fitnesses.mean().item()\n",
    "    max_fitness = fitnesses.max().item()\n",
    "    total_eval += evaluations\n",
    "\n",
    "    mean_fitnesses.append(mean_fitness)\n",
    "    max_fitnesses.append(max_fitness)\n",
    "    total_evaluations.append(total_eval)\n",
    "\n",
    "    if use_wandb:\n",
    "        wandb.log({\n",
    "            \"mean_fitness\": mean_fitness,\n",
    "            \"max_fitness\": max_fitness,\n",
    "            \"total_eval\": total_eval,\n",
    "            \"depth\": depth\n",
    "        })\n",
    "\n",
    "    print(f\"Evaluations: {total_eval}\")\n",
    "    \n",
    "    if len(mean_fitnesses) > 1:\n",
    "        mean_fitness_change = abs(mean_fitnesses[-1] - mean_fitnesses[-2])\n",
    "        mean_fitness_changes.append(mean_fitness_change)\n",
    "        \n",
    "        if len(mean_fitness_changes) >= params['patience']:\n",
    "            recent_changes = mean_fitness_changes[-params['patience']:]\n",
    "            if all(change < params['delta_mean_population'] for change in recent_changes):\n",
    "                print(f\"Stopping early due to no significant change in mean fitness over the last {params['patience']} iterations.\")\n",
    "                break\n",
    "    \n",
    "    if done:\n",
    "        print(f\"Optimum solution found.\")\n",
    "        break"
   ]
  },
  {
   "cell_type": "code",
   "execution_count": null,
   "metadata": {},
   "outputs": [],
   "source": []
  },
  {
   "cell_type": "code",
   "execution_count": 6,
   "metadata": {},
   "outputs": [
    {
     "data": {
      "text/html": [
       "<style>\n",
       "    table.wandb td:nth-child(1) { padding: 0 10px; text-align: left ; width: auto;} td:nth-child(2) {text-align: left ; width: 100%}\n",
       "    .wandb-row { display: flex; flex-direction: row; flex-wrap: wrap; justify-content: flex-start; width: 100% }\n",
       "    .wandb-col { display: flex; flex-direction: column; flex-basis: 100%; flex: 1; padding: 10px; }\n",
       "    </style>\n",
       "<div class=\"wandb-row\"><div class=\"wandb-col\"><h3>Run history:</h3><br/><table class=\"wandb\"><tr><td>depth</td><td>▁▅██████████████████████████████████████</td></tr><tr><td>max_fitness</td><td>▁▆▆▆▆▆▆█████████████████████████████████</td></tr><tr><td>mean_fitness</td><td>▁▅▆▇▇▇▇▇▇▇▇▇████████████████████████████</td></tr><tr><td>total_eval</td><td>▁▁▁▂▂▂▂▂▃▃▃▃▃▃▄▄▄▄▄▄▅▅▅▅▅▆▆▆▆▆▆▇▇▇▇▇▇███</td></tr></table><br/></div><div class=\"wandb-col\"><h3>Run summary:</h3><br/><table class=\"wandb\"><tr><td>depth</td><td>6</td></tr><tr><td>max_fitness</td><td>41519.0</td></tr><tr><td>mean_fitness</td><td>41216.90625</td></tr><tr><td>total_eval</td><td>12305885</td></tr></table><br/></div></div>"
      ],
      "text/plain": [
       "<IPython.core.display.HTML object>"
      ]
     },
     "metadata": {},
     "output_type": "display_data"
    },
    {
     "data": {
      "text/html": [
       " View run <strong style=\"color:#cdcd00\">avid-energy-14</strong> at: <a href='https://wandb.ai/linusrd/Deep%20Optimization/runs/zei8rule' target=\"_blank\">https://wandb.ai/linusrd/Deep%20Optimization/runs/zei8rule</a><br/> View project at: <a href='https://wandb.ai/linusrd/Deep%20Optimization' target=\"_blank\">https://wandb.ai/linusrd/Deep%20Optimization</a><br/>Synced 6 W&B file(s), 1 media file(s), 2 artifact file(s) and 0 other file(s)"
      ],
      "text/plain": [
       "<IPython.core.display.HTML object>"
      ]
     },
     "metadata": {},
     "output_type": "display_data"
    },
    {
     "data": {
      "text/html": [
       "Find logs at: <code>./wandb/run-20240622_115120-zei8rule/logs</code>"
      ],
      "text/plain": [
       "<IPython.core.display.HTML object>"
      ]
     },
     "metadata": {},
     "output_type": "display_data"
    },
    {
     "data": {
      "image/png": "[encoded data removed]",
      "text/plain": [
       "<Figure size 1000x600 with 1 Axes>"
      ]
     },
     "metadata": {},
     "output_type": "display_data"
    }
   ],
   "source": [
    "# Custom plot\n",
    "plt.figure(figsize=(10, 6))\n",
    "plt.plot(total_evaluations, mean_fitnesses, label='Mean Fitness')\n",
    "plt.plot(total_evaluations, max_fitnesses, label='Max Fitness')\n",
    "plt.axhline(y=problem.max_fitness, color='r', linestyle='--', label='Max Possible Fitness')\n",
    "plt.xlabel('Evaluations')\n",
    "plt.ylabel('Fitness')\n",
    "plt.title('Mean and Max Fitness over Evaluations')\n",
    "plt.legend()\n",
    "\n",
    "# Save plot to W&B\n",
    "wandb.log({\"fitness_plot\": wandb.Image(plt)})\n",
    "\n",
    "# Finish the W&B run\n",
    "wandb.finish()"
   ]
  },
  {
   "cell_type": "code",
   "execution_count": null,
   "metadata": {},
   "outputs": [],
   "source": []
  },
  {
   "cell_type": "code",
   "execution_count": 7,
   "metadata": {},
   "outputs": [
    {
     "data": {
      "text/plain": [
       "41560.0"
      ]
     },
     "execution_count": 7,
     "metadata": {},
     "output_type": "execute_result"
    }
   ],
   "source": [
    "problem.max_fitness"
   ]
  },
  {
   "cell_type": "code",
   "execution_count": null,
   "metadata": {},
   "outputs": [],
   "source": []
  }
 ],
 "metadata": {
  "kernelspec": {
   "display_name": "myenv",
   "language": "python",
   "name": "python3"
  },
  "language_info": {
   "codemirror_mode": {
    "name": "ipython",
    "version": 3
   },
   "file_extension": ".py",
   "mimetype": "text/x-python",
   "name": "python",
   "nbconvert_exporter": "python",
   "pygments_lexer": "ipython3",
   "version": "3.9.19"
  }
 },
 "nbformat": 4,
 "nbformat_minor": 2
}
