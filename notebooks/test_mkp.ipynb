{
 "cells": [
  {
   "cell_type": "code",
   "execution_count": 1,
   "metadata": {},
   "outputs": [],
   "source": [
    "import sys\n",
    "sys.path.insert(1, '/Users/linusrandud/Documents/UoM/ERP/MscDissertation/Deep-Opt')"
   ]
  },
  {
   "cell_type": "code",
   "execution_count": 2,
   "metadata": {},
   "outputs": [],
   "source": [
    "import torch\n",
    "\n",
    "from COProblems.MKP import MKP\n",
    "from COProblems.QUBO import QUBO\n",
    "from Models.DOAE import DOAE\n",
    "from OptimAE import OptimAEHandler"
   ]
  },
  {
   "cell_type": "code",
   "execution_count": 3,
   "metadata": {},
   "outputs": [
    {
     "name": "stdout",
     "output_type": "stream",
     "text": [
      "cpu\n"
     ]
    }
   ],
   "source": [
    "# Highly recommended to keep as cpu for problems of size <= 100\n",
    "device=\"cpu\"\n",
    "print(device)\n",
    "device = torch.device(device)"
   ]
  },
  {
   "cell_type": "code",
   "execution_count": 4,
   "metadata": {},
   "outputs": [
    {
     "name": "stdout",
     "output_type": "stream",
     "text": [
      "This instance has 100 items and 30 dimensions\n",
      "Max possible fitness for this instance: 41560.0\n"
     ]
    }
   ],
   "source": [
    "problem = MKP(\"/Users/linusrandud/Documents/UoM/ERP/MscDissertation/data/mkp/problems30d.txt\", \"/Users/linusrandud/Documents/UoM/ERP/MscDissertation/data/mkp/fitnesses30d.txt\", 12, device)"
   ]
  },
  {
   "cell_type": "code",
   "execution_count": 5,
   "metadata": {},
   "outputs": [
    {
     "data": {
      "text/plain": [
       "<COProblems.MKP.MKP at 0x111b98e50>"
      ]
     },
     "execution_count": 5,
     "metadata": {},
     "output_type": "execute_result"
    }
   ],
   "source": [
    "problem"
   ]
  },
  {
   "cell_type": "code",
   "execution_count": 6,
   "metadata": {},
   "outputs": [
    {
     "data": {
      "text/plain": [
       "['A',\n",
       " '__abstractmethods__',\n",
       " '__class__',\n",
       " '__delattr__',\n",
       " '__dict__',\n",
       " '__dir__',\n",
       " '__doc__',\n",
       " '__eq__',\n",
       " '__format__',\n",
       " '__ge__',\n",
       " '__getattribute__',\n",
       " '__gt__',\n",
       " '__hash__',\n",
       " '__init__',\n",
       " '__init_subclass__',\n",
       " '__le__',\n",
       " '__lt__',\n",
       " '__module__',\n",
       " '__ne__',\n",
       " '__new__',\n",
       " '__reduce__',\n",
       " '__reduce_ex__',\n",
       " '__repr__',\n",
       " '__setattr__',\n",
       " '__sizeof__',\n",
       " '__slots__',\n",
       " '__str__',\n",
       " '__subclasshook__',\n",
       " '__weakref__',\n",
       " '_abc_impl',\n",
       " 'b',\n",
       " 'c',\n",
       " 'device',\n",
       " 'fitness',\n",
       " 'get_utility_order',\n",
       " 'is_valid',\n",
       " 'max_fitness',\n",
       " 'random_solution',\n",
       " 'repair',\n",
       " 'utility']"
      ]
     },
     "execution_count": 6,
     "metadata": {},
     "output_type": "execute_result"
    }
   ],
   "source": [
    "dir(problem)"
   ]
  },
  {
   "cell_type": "code",
   "execution_count": 7,
   "metadata": {},
   "outputs": [
    {
     "data": {
      "text/plain": [
       "tensor([26260., 27025., 25353., 20423., 21801., 27803., 25571., 25057., 23284.,\n",
       "        24242., 23950., 25767., 27937., 24260., 28375., 24405., 24963., 24938.,\n",
       "        25390., 26130., 22794., 27212., 22649., 25417., 22954., 25662., 24486.,\n",
       "        24032., 24052., 25164.])"
      ]
     },
     "execution_count": 7,
     "metadata": {},
     "output_type": "execute_result"
    }
   ],
   "source": [
    "problem.b"
   ]
  },
  {
   "cell_type": "code",
   "execution_count": 24,
   "metadata": {},
   "outputs": [
    {
     "data": {
      "text/plain": [
       "tensor([-578., -735.,  972., -568., -671.,  948., -742., -579., -546.,  596.,\n",
       "         891.,  779.,  755., -630.,  981.,  641., -654., -627., 1041.,  819.,\n",
       "        -811., -488., -790., -613., -879., -482., 1031., -609.,  870.,  669.,\n",
       "        1008.,  892.,  676.,  914., 1007.,  920.,  739.,  960., -518., -524.,\n",
       "        -658.,  751.,  804., -619., -519.,  898.,  925.,  957.,  899.,  981.,\n",
       "         756.,  697., -796., -807.,  916., -477.,  855., -559.,  823., -690.,\n",
       "         936., -759., -781., -594., -723., -746., -549., -870.,  716.,  603.,\n",
       "        -619.,  649.,  763.,  699.,  748., -487.,  948., -620., -889., -680.,\n",
       "        -666., -617.,  914.,  942., -781.,  902., -814.,  628.,  561.,  655.,\n",
       "         906., -585.,  850., -933.,  727., -403., -593., -762., -619., -588.])"
      ]
     },
     "execution_count": 24,
     "metadata": {},
     "output_type": "execute_result"
    }
   ],
   "source": [
    "problem.c * population[0]"
   ]
  },
  {
   "cell_type": "code",
   "execution_count": 25,
   "metadata": {},
   "outputs": [
    {
     "data": {
      "text/plain": [
       "41560.0"
      ]
     },
     "execution_count": 25,
     "metadata": {},
     "output_type": "execute_result"
    }
   ],
   "source": [
    "problem.max_fitness"
   ]
  },
  {
   "cell_type": "code",
   "execution_count": null,
   "metadata": {},
   "outputs": [],
   "source": []
  },
  {
   "cell_type": "code",
   "execution_count": 8,
   "metadata": {},
   "outputs": [
    {
     "data": {
      "text/plain": [
       "tensor([ 578.,  735.,  972.,  568.,  671.,  948.,  742.,  579.,  546.,  596.,\n",
       "         891.,  779.,  755.,  630.,  981.,  641.,  654.,  627., 1041.,  819.,\n",
       "         811.,  488.,  790.,  613.,  879.,  482., 1031.,  609.,  870.,  669.,\n",
       "        1008.,  892.,  676.,  914., 1007.,  920.,  739.,  960.,  518.,  524.,\n",
       "         658.,  751.,  804.,  619.,  519.,  898.,  925.,  957.,  899.,  981.,\n",
       "         756.,  697.,  796.,  807.,  916.,  477.,  855.,  559.,  823.,  690.,\n",
       "         936.,  759.,  781.,  594.,  723.,  746.,  549.,  870.,  716.,  603.,\n",
       "         619.,  649.,  763.,  699.,  748.,  487.,  948.,  620.,  889.,  680.,\n",
       "         666.,  617.,  914.,  942.,  781.,  902.,  814.,  628.,  561.,  655.,\n",
       "         906.,  585.,  850.,  933.,  727.,  403.,  593.,  762.,  619.,  588.])"
      ]
     },
     "execution_count": 8,
     "metadata": {},
     "output_type": "execute_result"
    }
   ],
   "source": [
    "problem.c"
   ]
  },
  {
   "cell_type": "code",
   "execution_count": 9,
   "metadata": {},
   "outputs": [
    {
     "data": {
      "text/plain": [
       "tensor([[ 67., 720., 669.,  ..., 239., 640., 658.],\n",
       "        [451., 818., 367.,  ...,  23., 693., 744.],\n",
       "        [845., 975., 987.,  ..., 178., 227., 692.],\n",
       "        ...,\n",
       "        [907., 816., 503.,  ..., 945., 594., 310.],\n",
       "        [348., 649., 992.,  ..., 892., 756., 190.],\n",
       "        [711., 947., 530.,  ..., 774., 779., 596.]])"
      ]
     },
     "execution_count": 9,
     "metadata": {},
     "output_type": "execute_result"
    }
   ],
   "source": [
    "problem.A"
   ]
  },
  {
   "cell_type": "code",
   "execution_count": 10,
   "metadata": {},
   "outputs": [
    {
     "data": {
      "text/plain": [
       "device(type='cpu')"
      ]
     },
     "execution_count": 10,
     "metadata": {},
     "output_type": "execute_result"
    }
   ],
   "source": [
    "problem.device"
   ]
  },
  {
   "cell_type": "code",
   "execution_count": 11,
   "metadata": {},
   "outputs": [],
   "source": [
    "# Opening .txt file to read raw data of an instance\n",
    "name = '/Users/linusrandud/Documents/UoM/ERP/MscDissertation/data/mkp/problems30d.txt'\n",
    "\n",
    "file = open(str(name), 'r')\n",
    "x = []\n",
    "for line in file:\n",
    "    split_line = line.split()\n",
    "    for i in range(len(split_line)):\n",
    "        x.append(split_line[i])\n",
    "file.close()"
   ]
  },
  {
   "cell_type": "code",
   "execution_count": 12,
   "metadata": {},
   "outputs": [
    {
     "data": {
      "text/plain": [
       "(['30',\n",
       "  '100',\n",
       "  '30',\n",
       "  '0',\n",
       "  '1002',\n",
       "  '889',\n",
       "  '774',\n",
       "  '746',\n",
       "  '873',\n",
       "  '916',\n",
       "  '731',\n",
       "  '660',\n",
       "  '601',\n",
       "  '792',\n",
       "  '647',\n",
       "  '623',\n",
       "  '566',\n",
       "  '574',\n",
       "  '953',\n",
       "  '922',\n",
       "  '927',\n",
       "  '670',\n",
       "  '814',\n",
       "  '661',\n",
       "  '590',\n",
       "  '1013',\n",
       "  '640',\n",
       "  '911',\n",
       "  '650',\n",
       "  '670',\n",
       "  '1067',\n",
       "  '988',\n",
       "  '765',\n",
       "  '955',\n",
       "  '857',\n",
       "  '943',\n",
       "  '502',\n",
       "  '584',\n",
       "  '761',\n",
       "  '599',\n",
       "  '507',\n",
       "  '804',\n",
       "  '462',\n",
       "  '558',\n",
       "  '648',\n",
       "  '484',\n",
       "  '898',\n",
       "  '1052',\n",
       "  '568',\n",
       "  '617',\n",
       "  '690',\n",
       "  '665',\n",
       "  '754',\n",
       "  '604',\n",
       "  '564',\n",
       "  '498',\n",
       "  '804',\n",
       "  '496',\n",
       "  '1013',\n",
       "  '834',\n",
       "  '561',\n",
       "  '873',\n",
       "  '859',\n",
       "  '578',\n",
       "  '534',\n",
       "  '819',\n",
       "  '619',\n",
       "  '953',\n",
       "  '497',\n",
       "  '843',\n",
       "  '800',\n",
       "  '934',\n",
       "  '757',\n",
       "  '570',\n",
       "  '946',\n",
       "  '691',\n",
       "  '1006',\n",
       "  '1027',\n",
       "  '714',\n",
       "  '630',\n",
       "  '565',\n",
       "  '955',\n",
       "  '828',\n",
       "  '564',\n",
       "  '601',\n",
       "  '631',\n",
       "  '823',\n",
       "  '657',\n",
       "  '617',\n",
       "  '674',\n",
       "  '624',\n",
       "  '647',\n",
       "  '506',\n",
       "  '1020',\n",
       "  '870',\n",
       "  '929',\n",
       "  '921',\n",
       "  '484',\n",
       "  '867',\n",
       "  '926',\n",
       "  '748',\n",
       "  '583',\n",
       "  '882',\n",
       "  '586',\n",
       "  '193',\n",
       "  '665',\n",
       "  '929',\n",
       "  '958',\n",
       "  '962',\n",
       "  '186',\n",
       "  '666',\n",
       "  '630',\n",
       "  '615',\n",
       "  '67',\n",
       "  '334',\n",
       "  '823',\n",
       "  '341',\n",
       "  '590',\n",
       "  '734',\n",
       "  '747',\n",
       "  '992',\n",
       "  '826',\n",
       "  '276',\n",
       "  '645',\n",
       "  '572',\n",
       "  '127',\n",
       "  '673',\n",
       "  '587',\n",
       "  '322',\n",
       "  '846',\n",
       "  '792',\n",
       "  '437',\n",
       "  '180',\n",
       "  '774',\n",
       "  '675',\n",
       "  '827',\n",
       "  '287',\n",
       "  '318',\n",
       "  '705',\n",
       "  '416',\n",
       "  '619',\n",
       "  '494',\n",
       "  '468',\n",
       "  '720',\n",
       "  '276',\n",
       "  '532',\n",
       "  '148',\n",
       "  '186',\n",
       "  '349',\n",
       "  '631',\n",
       "  '598',\n",
       "  '549',\n",
       "  '521',\n",
       "  '365',\n",
       "  '618',\n",
       "  '4',\n",
       "  '906',\n",
       "  '725',\n",
       "  '542',\n",
       "  '994',\n",
       "  '702',\n",
       "  '676',\n",
       "  '766',\n",
       "  '540',\n",
       "  '317',\n",
       "  '88',\n",
       "  '505',\n",
       "  '760',\n",
       "  '275',\n",
       "  '206',\n",
       "  '874',\n",
       "  '481',\n",
       "  '213',\n",
       "  '283',\n",
       "  '795',\n",
       "  '688',\n",
       "  '957',\n",
       "  '405',\n",
       "  '377',\n",
       "  '338',\n",
       "  '981',\n",
       "  '583',\n",
       "  '576',\n",
       "  '956',\n",
       "  '173',\n",
       "  '143',\n",
       "  '381',\n",
       "  '927',\n",
       "  '669',\n",
       "  '256',\n",
       "  '981',\n",
       "  '67',\n",
       "  '274',\n",
       "  '486',\n",
       "  '600',\n",
       "  '68',\n",
       "  '961',\n",
       "  '133',\n",
       "  '133',\n",
       "  '719',\n",
       "  '789',\n",
       "  '607',\n",
       "  '613',\n",
       "  '563',\n",
       "  '727',\n",
       "  '866',\n",
       "  '839',\n",
       "  '512',\n",
       "  '290',\n",
       "  '374',\n",
       "  '302',\n",
       "  '393',\n",
       "  '348',\n",
       "  '303',\n",
       "  '484',\n",
       "  '552',\n",
       "  '387',\n",
       "  '367',\n",
       "  '829',\n",
       "  '965',\n",
       "  '766',\n",
       "  '232',\n",
       "  '4',\n",
       "  '735',\n",
       "  '398',\n",
       "  '740',\n",
       "  '510',\n",
       "  '662',\n",
       "  '225',\n",
       "  '349',\n",
       "  '816',\n",
       "  '623',\n",
       "  '917',\n",
       "  '124',\n",
       "  '665',\n",
       "  '661',\n",
       "  '756',\n",
       "  '418',\n",
       "  '903',\n",
       "  '606',\n",
       "  '131',\n",
       "  '216',\n",
       "  '771',\n",
       "  '285',\n",
       "  '26',\n",
       "  '582',\n",
       "  '484',\n",
       "  '361',\n",
       "  '363',\n",
       "  '261',\n",
       "  '652',\n",
       "  '336',\n",
       "  '939',\n",
       "  '30',\n",
       "  '972',\n",
       "  '670',\n",
       "  '891',\n",
       "  '759',\n",
       "  '672',\n",
       "  '91',\n",
       "  '987',\n",
       "  '113',\n",
       "  '458',\n",
       "  '367',\n",
       "  '435',\n",
       "  '907',\n",
       "  '735',\n",
       "  '670',\n",
       "  '193',\n",
       "  '587',\n",
       "  '708',\n",
       "  '668',\n",
       "  '25',\n",
       "  '258',\n",
       "  '591',\n",
       "  '311',\n",
       "  '735',\n",
       "  '613',\n",
       "  '686',\n",
       "  '615',\n",
       "  '454',\n",
       "  '138',\n",
       "  '568',\n",
       "  '78',\n",
       "  '238',\n",
       "  '729',\n",
       "  '428',\n",
       "  '56',\n",
       "  '24',\n",
       "  '574',\n",
       "  '525',\n",
       "  '177',\n",
       "  '505',\n",
       "  '664',\n",
       "  '74',\n",
       "  '824',\n",
       "  '807',\n",
       "  '124',\n",
       "  '559',\n",
       "  '544',\n",
       "  '7',\n",
       "  '886',\n",
       "  '86',\n",
       "  '600',\n",
       "  '202',\n",
       "  '308',\n",
       "  '835',\n",
       "  '127',\n",
       "  '500',\n",
       "  '755',\n",
       "  '546',\n",
       "  '594',\n",
       "  '2',\n",
       "  '790',\n",
       "  '865',\n",
       "  '825',\n",
       "  '318',\n",
       "  '346',\n",
       "  '261',\n",
       "  '517',\n",
       "  '524',\n",
       "  '306',\n",
       "  '542',\n",
       "  '409',\n",
       "  '338',\n",
       "  '483',\n",
       "  '329',\n",
       "  '843',\n",
       "  '954',\n",
       "  '727',\n",
       "  '905',\n",
       "  '361',\n",
       "  '7',\n",
       "  '763',\n",
       "  '749',\n",
       "  '980',\n",
       "  '352',\n",
       "  '263',\n",
       "  '607',\n",
       "  '750',\n",
       "  '647',\n",
       "  '1000',\n",
       "  '170',\n",
       "  '714',\n",
       "  '273',\n",
       "  '328',\n",
       "  '489',\n",
       "  '103',\n",
       "  '372',\n",
       "  '760',\n",
       "  '7',\n",
       "  '420',\n",
       "  '273',\n",
       "  '626',\n",
       "  '458',\n",
       "  '795',\n",
       "  '350',\n",
       "  '378',\n",
       "  '231',\n",
       "  '246',\n",
       "  '483',\n",
       "  '990',\n",
       "  '500',\n",
       "  '27',\n",
       "  '536',\n",
       "  '833',\n",
       "  '56',\n",
       "  '198',\n",
       "  '851',\n",
       "  '803',\n",
       "  '738',\n",
       "  '250',\n",
       "  '114',\n",
       "  '45',\n",
       "  '772',\n",
       "  '439',\n",
       "  '682',\n",
       "  '184',\n",
       "  '718',\n",
       "  '730',\n",
       "  '430',\n",
       "  '556',\n",
       "  '850',\n",
       "  '343',\n",
       "  '143',\n",
       "  '223',\n",
       "  '203',\n",
       "  '7',\n",
       "  '478',\n",
       "  '395',\n",
       "  '739',\n",
       "  '66',\n",
       "  '458',\n",
       "  '198',\n",
       "  '105',\n",
       "  '572',\n",
       "  '546',\n",
       "  '880',\n",
       "  '480',\n",
       "  '319',\n",
       "  '761',\n",
       "  '855',\n",
       "  '94',\n",
       "  '596',\n",
       "  '604',\n",
       "  '986',\n",
       "  '985',\n",
       "  '672',\n",
       "  '941',\n",
       "  '503',\n",
       "  '561',\n",
       "  '416',\n",
       "  '293',\n",
       "  '181',\n",
       "  '317',\n",
       "  '837',\n",
       "  '156',\n",
       "  '800',\n",
       "  '39',\n",
       "  '309',\n",
       "  '497',\n",
       "  '680',\n",
       "  '622',\n",
       "  '848',\n",
       "  '863',\n",
       "  '425',\n",
       "  '976',\n",
       "  '389',\n",
       "  '757',\n",
       "  '321',\n",
       "  '908',\n",
       "  '151',\n",
       "  '603',\n",
       "  '203',\n",
       "  '264',\n",
       "  '116',\n",
       "  '662',\n",
       "  '86',\n",
       "  '16',\n",
       "  '63',\n",
       "  '842',\n",
       "  '516',\n",
       "  '521',\n",
       "  '698',\n",
       "  '674',\n",
       "  '323',\n",
       "  '121',\n",
       "  '966',\n",
       "  '562',\n",
       "  '382',\n",
       "  '190',\n",
       "  '557',\n",
       "  '254',\n",
       "  '617',\n",
       "  '832',\n",
       "  '342',\n",
       "  '906',\n",
       "  '294',\n",
       "  '400',\n",
       "  '694',\n",
       "  '265',\n",
       "  '275',\n",
       "  '573',\n",
       "  '942',\n",
       "  '354',\n",
       "  '344',\n",
       "  '643',\n",
       "  '194',\n",
       "  '438',\n",
       "  '9',\n",
       "  '794',\n",
       "  '467',\n",
       "  '474',\n",
       "  '776',\n",
       "  '903',\n",
       "  '8',\n",
       "  '284',\n",
       "  '767',\n",
       "  '549',\n",
       "  '1',\n",
       "  '63',\n",
       "  '544',\n",
       "  '682',\n",
       "  '967',\n",
       "  '135',\n",
       "  '685',\n",
       "  '201',\n",
       "  '277',\n",
       "  '716',\n",
       "  '982',\n",
       "  '162',\n",
       "  '295',\n",
       "  '471',\n",
       "  '262',\n",
       "  '123',\n",
       "  '988',\n",
       "  '677',\n",
       "  '397',\n",
       "  '349',\n",
       "  '109',\n",
       "  '854',\n",
       "  '356',\n",
       "  '519',\n",
       "  '715',\n",
       "  '308',\n",
       "  '546',\n",
       "  '971',\n",
       "  '834',\n",
       "  '675',\n",
       "  '1000',\n",
       "  '74',\n",
       "  '656',\n",
       "  '517',\n",
       "  '878',\n",
       "  '729',\n",
       "  '579',\n",
       "  '900',\n",
       "  '300',\n",
       "  '904',\n",
       "  '357',\n",
       "  '644',\n",
       "  '913',\n",
       "  '542',\n",
       "  '664',\n",
       "  '309',\n",
       "  '435',\n",
       "  '318',\n",
       "  '489',\n",
       "  '156',\n",
       "  '195',\n",
       "  '999',\n",
       "  '199',\n",
       "  '436',\n",
       "  '894',\n",
       "  '647',\n",
       "  '153',\n",
       "  '271',\n",
       "  '946',\n",
       "  '21',\n",
       "  '24',\n",
       "  '704',\n",
       "  '143',\n",
       "  '280',\n",
       "  '921',\n",
       "  '4',\n",
       "  '993',\n",
       "  '883',\n",
       "  '561',\n",
       "  '539',\n",
       "  '815',\n",
       "  '534',\n",
       "  '30',\n",
       "  '730',\n",
       "  '597',\n",
       "  '83',\n",
       "  '793',\n",
       "  '325',\n",
       "  '418',\n",
       "  '797',\n",
       "  '925',\n",
       "  '599',\n",
       "  '657',\n",
       "  '241',\n",
       "  '695',\n",
       "  '250',\n",
       "  '255',\n",
       "  '905',\n",
       "  '563',\n",
       "  '750',\n",
       "  '345',\n",
       "  '612',\n",
       "  '554',\n",
       "  '601',\n",
       "  '251',\n",
       "  '863',\n",
       "  '997',\n",
       "  '826',\n",
       "  '584',\n",
       "  '890',\n",
       "  '441',\n",
       "  '725',\n",
       "  '213',\n",
       "  '330',\n",
       "  '184',\n",
       "  '934',\n",
       "  '797',\n",
       "  '594',\n",
       "  '338',\n",
       "  '134',\n",
       "  '698',\n",
       "  '617',\n",
       "  '984',\n",
       "  '503',\n",
       "  '719',\n",
       "  '754',\n",
       "  '653',\n",
       "  '199',\n",
       "  '544',\n",
       "  '974',\n",
       "  '474',\n",
       "  '814',\n",
       "  '663',\n",
       "  '801',\n",
       "  '224',\n",
       "  '600',\n",
       "  '549',\n",
       "  '166',\n",
       "  '293',\n",
       "  '673',\n",
       "  '596',\n",
       "  '292',\n",
       "  '338',\n",
       "  '363',\n",
       "  '183',\n",
       "  '110',\n",
       "  '450',\n",
       "  '672',\n",
       "  '590',\n",
       "  '379',\n",
       "  '779',\n",
       "  '657',\n",
       "  '467',\n",
       "  '410',\n",
       "  '794',\n",
       "  '818',\n",
       "  '638',\n",
       "  '411',\n",
       "  '256',\n",
       "  '260',\n",
       "  '497',\n",
       "  '645',\n",
       "  '391',\n",
       "  '760',\n",
       "  '370',\n",
       "  '140',\n",
       "  '194',\n",
       "  '540',\n",
       "  '660',\n",
       "  '950',\n",
       "  '959',\n",
       "  '455',\n",
       "  '60',\n",
       "  '362',\n",
       "  '430',\n",
       "  '732',\n",
       "  '276',\n",
       "  '872',\n",
       "  '974',\n",
       "  '585',\n",
       "  '74',\n",
       "  '773',\n",
       "  '188',\n",
       "  '116',\n",
       "  '550',\n",
       "  '991',\n",
       "  '531',\n",
       "  '418',\n",
       "  '382',\n",
       "  '651',\n",
       "  '746',\n",
       "  '247',\n",
       "  '17',\n",
       "  '824',\n",
       "  '24',\n",
       "  '269',\n",
       "  '957',\n",
       "  '212',\n",
       "  '216',\n",
       "  '101',\n",
       "  '144',\n",
       "  '319',\n",
       "  '892',\n",
       "  '310',\n",
       "  '489',\n",
       "  '403',\n",
       "  '91',\n",
       "  '648',\n",
       "  '981',\n",
       "  '728',\n",
       "  '571',\n",
       "  '231',\n",
       "  '129',\n",
       "  '842',\n",
       "  '533',\n",
       "  '345',\n",
       "  '706',\n",
       "  '57',\n",
       "  '42',\n",
       "  '630',\n",
       "  '309',\n",
       "  '876',\n",
       "  '257',\n",
       "  '978',\n",
       "  '944',\n",
       "  '596',\n",
       "  '830',\n",
       "  '780',\n",
       "  '461',\n",
       "  '98',\n",
       "  '170',\n",
       "  '963',\n",
       "  '426',\n",
       "  '256',\n",
       "  '428',\n",
       "  '757',\n",
       "  '482',\n",
       "  '216',\n",
       "  '451',\n",
       "  '1000',\n",
       "  '721',\n",
       "  '439',\n",
       "  '800',\n",
       "  '860',\n",
       "  '722',\n",
       "  '679',\n",
       "  '69',\n",
       "  '479',\n",
       "  '328',\n",
       "  '880',\n",
       "  '153',\n",
       "  '238',\n",
       "  '262',\n",
       "  '284',\n",
       "  '519',\n",
       "  '180',\n",
       "  '751',\n",
       "  '628',\n",
       "  '241',\n",
       "  '117',\n",
       "  '476',\n",
       "  '141',\n",
       "  '759',\n",
       "  '719',\n",
       "  '402',\n",
       "  '395',\n",
       "  '647',\n",
       "  '309',\n",
       "  '656',\n",
       "  '633',\n",
       "  '532',\n",
       "  '282',\n",
       "  '320',\n",
       "  '877',\n",
       "  '735',\n",
       "  '175',\n",
       "  '301',\n",
       "  '879',\n",
       "  '950',\n",
       "  '726',\n",
       "  '279',\n",
       "  '451',\n",
       "  '967',\n",
       "  '715',\n",
       "  '862',\n",
       "  '803',\n",
       "  '82',\n",
       "  '349',\n",
       "  '845',\n",
       "  '766',\n",
       "  '665',\n",
       "  '864',\n",
       "  '610',\n",
       "  '183',\n",
       "  '49',\n",
       "  '191',\n",
       "  '367',\n",
       "  '13',\n",
       "  '837',\n",
       "  '164',\n",
       "  '409',\n",
       "  '678',\n",
       "  '487',\n",
       "  '760',\n",
       "  '235',\n",
       "  '562',\n",
       "  '350',\n",
       "  '337',\n",
       "  '635',\n",
       "  '528',\n",
       "  '687',\n",
       "  '598',\n",
       "  '519',\n",
       "  '571',\n",
       "  '259',\n",
       "  '219',\n",
       "  '56',\n",
       "  '395',\n",
       "  '395',\n",
       "  '285',\n",
       "  '35',\n",
       "  '204',\n",
       "  '718',\n",
       "  '757',\n",
       "  '22',\n",
       "  '326',\n",
       "  '230',\n",
       "  '581',\n",
       "  '249',\n",
       "  '737',\n",
       "  '334',\n",
       "  '212',\n",
       "  '696',\n",
       "  '710',\n",
       "  '757',\n",
       "  '305',\n",
       "  '626',\n",
       "  '126',\n",
       "  '671',\n",
       "  '424',\n",
       "  '275',\n",
       "  '747',\n",
       "  '847',\n",
       "  '447',\n",
       "  '481',\n",
       "  '456',\n",
       "  '782',\n",
       "  '368',\n",
       "  '33',\n",
       "  '746',\n",
       "  '962',\n",
       "  '397',\n",
       "  '64',\n",
       "  '11',\n",
       "  '296',\n",
       "  '989',\n",
       "  '656',\n",
       "  '707',\n",
       "  '784',\n",
       "  '160',\n",
       "  '912',\n",
       "  '837',\n",
       "  '842',\n",
       "  '796',\n",
       "  '483',\n",
       "  '50',\n",
       "  '444',\n",
       "  '93',\n",
       "  '52',\n",
       "  '616',\n",
       "  '928',\n",
       "  '742',\n",
       "  '558',\n",
       "  '152',\n",
       "  '895',\n",
       "  '698',\n",
       "  '229',\n",
       "  '202',\n",
       "  '569',\n",
       "  '233',\n",
       "  '75',\n",
       "  '345',\n",
       "  '184',\n",
       "  '395',\n",
       "  '76',\n",
       "  '446',\n",
       "  '431',\n",
       "  '438',\n",
       "  '473',\n",
       "  '653',\n",
       "  '621',\n",
       "  '504',\n",
       "  '390',\n",
       "  '2',\n",
       "  '113',\n",
       "  '412',\n",
       "  '826',\n",
       "  '49',\n",
       "  '477',\n",
       "  '372',\n",
       "  '9',\n",
       "  '424',\n",
       "  '795',\n",
       "  '282',\n",
       "  '371',\n",
       "  '622',\n",
       "  '120',\n",
       "  '78',\n",
       "  '226',\n",
       "  '784',\n",
       "  '322',\n",
       "  '806',\n",
       "  '710',\n",
       "  '871',\n",
       "  '747',\n",
       "  '833',\n",
       "  '848',\n",
       "  '339',\n",
       "  '739',\n",
       "  '210',\n",
       "  '289',\n",
       "  '829',\n",
       "  '942',\n",
       "  '726',\n",
       "  '880',\n",
       "  '263',\n",
       "  '875',\n",
       "  '84',\n",
       "  '30',\n",
       "  '789',\n",
       "  '608',\n",
       "  '462',\n",
       "  '857',\n",
       "  '360',\n",
       "  '454',\n",
       "  '956',\n",
       "  '618',\n",
       "  '766',\n",
       "  '168',\n",
       "  '387',\n",
       "  '408',\n",
       "  '59',\n",
       "  '490',\n",
       "  '767',\n",
       "  '785',\n",
       "  '341',\n",
       "  '540',\n",
       "  '798',\n",
       "  '396',\n",
       "  '170',\n",
       "  '971',\n",
       "  '561',\n",
       "  '630',\n",
       "  '859',\n",
       "  '76',\n",
       "  '80',\n",
       "  '984',\n",
       "  '301',\n",
       "  '64',\n",
       "  '452',\n",
       "  '182',\n",
       "  '148',\n",
       "  '253',\n",
       "  '524',\n",
       "  '662',\n",
       "  '110',\n",
       "  '66',\n",
       "  '900',\n",
       "  '756',\n",
       "  '759',\n",
       "  '48',\n",
       "  '265',\n",
       "  '808',\n",
       "  '530',\n",
       "  '266',\n",
       "  '789',\n",
       "  '164',\n",
       "  '731',\n",
       "  '435',\n",
       "  '986',\n",
       "  '62',\n",
       "  '837',\n",
       "  '161',\n",
       "  '969',\n",
       "  '115',\n",
       "  '630',\n",
       "  '709',\n",
       "  '824',\n",
       "  '238',\n",
       "  '908',\n",
       "  '823',\n",
       "  '381',\n",
       "  '690',\n",
       "  '734',\n",
       "  '116',\n",
       "  '485',\n",
       "  '885',\n",
       "  '475',\n",
       "  '999',\n",
       "  '170',\n",
       "  '793',\n",
       "  '971',\n",
       "  '361',\n",
       "  '888',\n",
       "  '929',\n",
       "  '814',\n",
       "  '48',\n",
       "  '695',\n",
       "  '32',\n",
       "  '512',\n",
       "  '272',\n",
       "  '862',\n",
       "  '433',\n",
       "  '810',\n",
       "  '548',\n",
       "  '603',\n",
       "  '141',\n",
       "  '64',\n",
       "  '354',\n",
       "  '589',\n",
       "  '40',\n",
       "  '292',\n",
       "  '810',\n",
       "  '190',\n",
       "  '979',\n",
       "  '653',\n",
       "  '797',\n",
       "  '649',\n",
       "  '160',\n",
       "  '902',\n",
       "  '365',\n",
       "  ...],\n",
       " 93991)"
      ]
     },
     "execution_count": 12,
     "metadata": {},
     "output_type": "execute_result"
    }
   ],
   "source": [
    "x, len(x)"
   ]
  },
  {
   "cell_type": "code",
   "execution_count": 13,
   "metadata": {},
   "outputs": [],
   "source": [
    "id = 12\n",
    "i = 1\n",
    "cur_id = 0\n",
    "while cur_id < id:\n",
    "    num_columns = int(x[i])\n",
    "    num_rows = int(x[i+1])\n",
    "    i += num_columns + (num_columns*num_rows) + num_rows + 3\n",
    "    cur_id += 1\n",
    "num_columns = int(x.pop(i))\n",
    "num_rows = int(x.pop(i))\n",
    "best = int(x.pop(i))"
   ]
  },
  {
   "cell_type": "code",
   "execution_count": 14,
   "metadata": {},
   "outputs": [
    {
     "data": {
      "text/plain": [
       "(100, 30, 0)"
      ]
     },
     "execution_count": 14,
     "metadata": {},
     "output_type": "execute_result"
    }
   ],
   "source": [
    "num_columns, num_rows, best"
   ]
  },
  {
   "cell_type": "code",
   "execution_count": 15,
   "metadata": {},
   "outputs": [
    {
     "data": {
      "text/plain": [
       "93988"
      ]
     },
     "execution_count": 15,
     "metadata": {},
     "output_type": "execute_result"
    }
   ],
   "source": [
    "len(x)"
   ]
  },
  {
   "cell_type": "code",
   "execution_count": 16,
   "metadata": {},
   "outputs": [],
   "source": [
    "c = torch.Tensor([float(x.pop(i)) for _ in range(num_columns)])"
   ]
  },
  {
   "cell_type": "code",
   "execution_count": 17,
   "metadata": {},
   "outputs": [
    {
     "data": {
      "text/plain": [
       "tensor([ 578.,  735.,  972.,  568.,  671.,  948.,  742.,  579.,  546.,  596.,\n",
       "         891.,  779.,  755.,  630.,  981.,  641.,  654.,  627., 1041.,  819.,\n",
       "         811.,  488.,  790.,  613.,  879.,  482., 1031.,  609.,  870.,  669.,\n",
       "        1008.,  892.,  676.,  914., 1007.,  920.,  739.,  960.,  518.,  524.,\n",
       "         658.,  751.,  804.,  619.,  519.,  898.,  925.,  957.,  899.,  981.,\n",
       "         756.,  697.,  796.,  807.,  916.,  477.,  855.,  559.,  823.,  690.,\n",
       "         936.,  759.,  781.,  594.,  723.,  746.,  549.,  870.,  716.,  603.,\n",
       "         619.,  649.,  763.,  699.,  748.,  487.,  948.,  620.,  889.,  680.,\n",
       "         666.,  617.,  914.,  942.,  781.,  902.,  814.,  628.,  561.,  655.,\n",
       "         906.,  585.,  850.,  933.,  727.,  403.,  593.,  762.,  619.,  588.])"
      ]
     },
     "execution_count": 17,
     "metadata": {},
     "output_type": "execute_result"
    }
   ],
   "source": [
    "c"
   ]
  },
  {
   "cell_type": "code",
   "execution_count": 18,
   "metadata": {},
   "outputs": [
    {
     "data": {
      "text/plain": [
       "93888"
      ]
     },
     "execution_count": 18,
     "metadata": {},
     "output_type": "execute_result"
    }
   ],
   "source": [
    "len(x)"
   ]
  },
  {
   "cell_type": "code",
   "execution_count": 19,
   "metadata": {},
   "outputs": [],
   "source": [
    "# Populating A matrix (size NumRows * NumColumns)\n",
    "const_coef = torch.Tensor([float(x.pop(i)) for _ in range(int(num_rows * num_columns))])           \n",
    "A = torch.reshape(const_coef, (num_rows, num_columns)) # reshaping the 1-d ConstCoef into A"
   ]
  },
  {
   "cell_type": "code",
   "execution_count": 20,
   "metadata": {},
   "outputs": [
    {
     "data": {
      "text/plain": [
       "tensor([ 67., 720., 669.,  ..., 774., 779., 596.])"
      ]
     },
     "execution_count": 20,
     "metadata": {},
     "output_type": "execute_result"
    }
   ],
   "source": [
    "const_coef"
   ]
  },
  {
   "cell_type": "code",
   "execution_count": 21,
   "metadata": {},
   "outputs": [
    {
     "data": {
      "text/plain": [
       "torch.Size([30, 100])"
      ]
     },
     "execution_count": 21,
     "metadata": {},
     "output_type": "execute_result"
    }
   ],
   "source": [
    "A.shape"
   ]
  },
  {
   "cell_type": "code",
   "execution_count": 22,
   "metadata": {},
   "outputs": [
    {
     "data": {
      "text/plain": [
       "tensor([ 67., 720., 669., 404., 341., 823., 775., 734., 368., 160., 864., 117.,\n",
       "        104., 818., 741., 109., 895., 967., 824., 212., 968., 970., 840., 787.,\n",
       "        884., 486., 953., 110., 659., 638., 435.,  38., 898., 380., 611., 330.,\n",
       "        983., 490., 724., 282., 262., 322., 443., 271., 265., 382., 677., 588.,\n",
       "        864., 831., 778., 493., 742., 766., 350., 217., 943., 699., 995., 681.,\n",
       "        275., 681., 320.,  86., 852., 102., 503., 132., 479., 116., 649., 193.,\n",
       "        564., 441., 610., 219., 613., 662., 597., 956., 408., 489., 613., 134.,\n",
       "        221., 915., 385.,  78., 614., 441.,  13., 555., 593., 315., 719., 532.,\n",
       "        160., 239., 640., 658.])"
      ]
     },
     "execution_count": 22,
     "metadata": {},
     "output_type": "execute_result"
    }
   ],
   "source": [
    "A[0]"
   ]
  },
  {
   "cell_type": "code",
   "execution_count": 23,
   "metadata": {},
   "outputs": [
    {
     "data": {
      "text/plain": [
       "30"
      ]
     },
     "execution_count": 23,
     "metadata": {},
     "output_type": "execute_result"
    }
   ],
   "source": [
    "num_rows"
   ]
  },
  {
   "cell_type": "code",
   "execution_count": 24,
   "metadata": {},
   "outputs": [],
   "source": [
    "# Populating the RHS\n",
    "b = torch.Tensor([float(x.pop(i)) for _ in range(int(num_rows))])"
   ]
  },
  {
   "cell_type": "code",
   "execution_count": 25,
   "metadata": {},
   "outputs": [
    {
     "data": {
      "text/plain": [
       "tensor([26260., 27025., 25353., 20423., 21801., 27803., 25571., 25057., 23284.,\n",
       "        24242., 23950., 25767., 27937., 24260., 28375., 24405., 24963., 24938.,\n",
       "        25390., 26130., 22794., 27212., 22649., 25417., 22954., 25662., 24486.,\n",
       "        24032., 24052., 25164.])"
      ]
     },
     "execution_count": 25,
     "metadata": {},
     "output_type": "execute_result"
    }
   ],
   "source": [
    "b"
   ]
  },
  {
   "cell_type": "code",
   "execution_count": 26,
   "metadata": {},
   "outputs": [],
   "source": [
    "name = '/Users/linusrandud/Documents/UoM/ERP/MscDissertation/data/mkp/fitnesses30d.txt'\n",
    "\n",
    "file = open(str(name), 'r')\n",
    "max_fitness = 0\n",
    "for i, line in enumerate(file):\n",
    "    if i == id:\n",
    "        max_fitness = float(line)\n",
    "        break\n",
    "file.close()"
   ]
  },
  {
   "cell_type": "code",
   "execution_count": 27,
   "metadata": {},
   "outputs": [
    {
     "data": {
      "text/plain": [
       "41560.0"
      ]
     },
     "execution_count": 27,
     "metadata": {},
     "output_type": "execute_result"
    }
   ],
   "source": [
    "max_fitness"
   ]
  },
  {
   "cell_type": "code",
   "execution_count": 28,
   "metadata": {},
   "outputs": [
    {
     "ename": "AttributeError",
     "evalue": "'list' object has no attribute 'matmul'",
     "output_type": "error",
     "traceback": [
      "\u001b[0;31m---------------------------------------------------------------------------\u001b[0m",
      "\u001b[0;31mAttributeError\u001b[0m                            Traceback (most recent call last)",
      "Cell \u001b[0;32mIn[28], line 1\u001b[0m\n\u001b[0;32m----> 1\u001b[0m \u001b[43mx\u001b[49m\u001b[38;5;241;43m.\u001b[39;49m\u001b[43mmatmul\u001b[49m(A\u001b[38;5;241m.\u001b[39mT)\n",
      "\u001b[0;31mAttributeError\u001b[0m: 'list' object has no attribute 'matmul'"
     ]
    }
   ],
   "source": [
    "x.matmul(A.T)"
   ]
  },
  {
   "cell_type": "code",
   "execution_count": null,
   "metadata": {},
   "outputs": [],
   "source": []
  },
  {
   "cell_type": "code",
   "execution_count": null,
   "metadata": {},
   "outputs": [],
   "source": [
    "import torch\n",
    "\n",
    "from COProblems.MKP import MKP\n",
    "from COProblems.QUBO import QUBO\n",
    "from Models.DOAE import DOAE\n",
    "from OptimAE import OptimAEHandler\n",
    "\n",
    "# Highly recommended to keep as cpu for problems of size <= 100\n",
    "device = \"cuda\" if torch.cuda.is_available() else \"cpu\"\n",
    "device=\"cpu\"\n",
    "print(device)\n",
    "device = torch.device(device)\n",
    "\n",
    "change_tolerance = 100\n",
    "problem_size = 100\n",
    "pop_size = 200\n",
    "# problem = MKP(\"COProblems\\\\mkp\\\\problems30d.txt\", \"COProblems\\\\mkp\\\\fitnesses30d.txt\", 12, device)\n",
    "#problem = QUBO(\"COProblems\\\\qubo\\\\bqp500.txt\", 0, device)\n",
    "\n",
    "dropout_prob = 0.2\n",
    "# 1000 bit QUBO l1 and l2:\n",
    "# l1_coef = 0.0000025\n",
    "# l2_coef = 0.0000025\n",
    "# 500 bit QUBO l1 and l2:\n",
    "# l1_coef = 0.000005\n",
    "# l2_coef = 0.000005\n",
    "# 100 bit l1 and l2\n",
    "l1_coef = 0.0001\n",
    "l2_coef = 0.0001\n",
    "lr = 0.002\n",
    "compression_ratio = 0.8\n",
    "model = DOAE(problem_size, dropout_prob, device)\n",
    "hidden_size = problem_size\n",
    "handler = OptimAEHandler(model, problem, device)\n",
    "\n",
    "population, fitnesses = handler.generate_population(pop_size)\n",
    "population, fitnesses, _, _ = handler.hillclimb(population, fitnesses, change_tolerance)\n",
    "handler.print_statistics(fitnesses)\n",
    "\n",
    "total_eval = 0\n",
    "max_depth = 6\n",
    "depth = 0\n",
    "\n",
    "while True:\n",
    "    if depth < max_depth:\n",
    "        print(\"Adding layer\")\n",
    "        hidden_size = round(hidden_size * compression_ratio)\n",
    "        model.transition(hidden_size)\n",
    "        depth += 1\n",
    "        optimizer = torch.optim.Adam(model.parameters(), lr=lr, weight_decay=l2_coef)\n",
    "    print(\"Learning from population\")\n",
    "    # Learing with the entire population as a batch is technically not the best from a machine learning perspective,\n",
    "    # but does not seem to have a massive impact on solution quality whilst also increasing learning speed significantly.\n",
    "    handler.learn_from_population(population, optimizer, l1_coef=l1_coef, batch_size=pop_size)\n",
    "    print(\"Optimising population\")\n",
    "    population, fitnesses, evaluations, done = handler.optimise_solutions(\n",
    "        population, fitnesses, change_tolerance, encode=True, repair_solutions=True, deepest_only=False\n",
    "    )\n",
    "    handler.print_statistics(fitnesses)\n",
    "    total_eval += evaluations\n",
    "    print(\"Evaluations: {}\".format(total_eval))\n",
    "    \n",
    "    # Uncomment lines below to print out best solution at every transition\n",
    "    # best_i = torch.argmax(fitnesses)\n",
    "    # print(\"Best solution - fitness = {}\".format(fitnesses[best_i].item()))\n",
    "    # print(population[best_i].tolist())\n",
    "    if done:\n",
    "        break"
   ]
  },
  {
   "cell_type": "code",
   "execution_count": 6,
   "metadata": {},
   "outputs": [
    {
     "data": {
      "text/plain": [
       "DOAE(\n",
       "  (encoder): Sequential(\n",
       "    (0): Dropout(p=0.2, inplace=False)\n",
       "    (1): Linear(in_features=100, out_features=80, bias=True)\n",
       "    (2): Tanh()\n",
       "    (3): Linear(in_features=80, out_features=64, bias=True)\n",
       "    (4): Tanh()\n",
       "    (5): Linear(in_features=64, out_features=51, bias=True)\n",
       "    (6): Tanh()\n",
       "    (7): Linear(in_features=51, out_features=41, bias=True)\n",
       "    (8): Tanh()\n",
       "    (9): Linear(in_features=41, out_features=33, bias=True)\n",
       "    (10): Tanh()\n",
       "    (11): Linear(in_features=33, out_features=26, bias=True)\n",
       "    (12): Tanh()\n",
       "  )\n",
       "  (decoder): Sequential(\n",
       "    (0): Linear(in_features=26, out_features=33, bias=True)\n",
       "    (1): Tanh()\n",
       "    (2): Linear(in_features=33, out_features=41, bias=True)\n",
       "    (3): Tanh()\n",
       "    (4): Linear(in_features=41, out_features=51, bias=True)\n",
       "    (5): Tanh()\n",
       "    (6): Linear(in_features=51, out_features=64, bias=True)\n",
       "    (7): Tanh()\n",
       "    (8): Linear(in_features=64, out_features=80, bias=True)\n",
       "    (9): Tanh()\n",
       "    (10): Linear(in_features=80, out_features=100, bias=True)\n",
       "    (11): Tanh()\n",
       "  )\n",
       ")"
      ]
     },
     "execution_count": 6,
     "metadata": {},
     "output_type": "execute_result"
    }
   ],
   "source": [
    "model"
   ]
  },
  {
   "cell_type": "code",
   "execution_count": 7,
   "metadata": {},
   "outputs": [
    {
     "data": {
      "text/plain": [
       "7"
      ]
     },
     "execution_count": 7,
     "metadata": {},
     "output_type": "execute_result"
    }
   ],
   "source": [
    "model.num_layers"
   ]
  },
  {
   "cell_type": "code",
   "execution_count": 14,
   "metadata": {},
   "outputs": [
    {
     "data": {
      "text/plain": [
       "Sequential(\n",
       "  (7): Linear(in_features=51, out_features=41, bias=True)\n",
       "  (8): Tanh()\n",
       "  (9): Linear(in_features=41, out_features=33, bias=True)\n",
       "  (10): Tanh()\n",
       "  (11): Linear(in_features=33, out_features=26, bias=True)\n",
       "  (12): Tanh()\n",
       ")"
      ]
     },
     "execution_count": 14,
     "metadata": {},
     "output_type": "execute_result"
    }
   ],
   "source": [
    "model.encoder[1+(2*3):]"
   ]
  },
  {
   "cell_type": "code",
   "execution_count": null,
   "metadata": {},
   "outputs": [],
   "source": []
  },
  {
   "cell_type": "code",
   "execution_count": 17,
   "metadata": {},
   "outputs": [
    {
     "data": {
      "text/plain": [
       "tensor([[-1., -1.,  1.,  ..., -1., -1., -1.],\n",
       "        [-1., -1.,  1.,  ..., -1., -1., -1.],\n",
       "        [-1., -1.,  1.,  ..., -1., -1., -1.],\n",
       "        ...,\n",
       "        [-1., -1.,  1.,  ..., -1., -1., -1.],\n",
       "        [-1., -1.,  1.,  ..., -1., -1., -1.],\n",
       "        [-1., -1.,  1.,  ..., -1., -1., -1.]])"
      ]
     },
     "execution_count": 17,
     "metadata": {},
     "output_type": "execute_result"
    }
   ],
   "source": [
    "population"
   ]
  },
  {
   "cell_type": "code",
   "execution_count": 18,
   "metadata": {},
   "outputs": [
    {
     "data": {
      "text/plain": [
       "torch.Size([200, 100])"
      ]
     },
     "execution_count": 18,
     "metadata": {},
     "output_type": "execute_result"
    }
   ],
   "source": [
    "population.shape"
   ]
  },
  {
   "cell_type": "code",
   "execution_count": 19,
   "metadata": {},
   "outputs": [
    {
     "data": {
      "text/plain": [
       "tensor([-1., -1.,  1., -1., -1.,  1., -1., -1., -1.,  1.,  1.,  1.,  1., -1.,\n",
       "         1.,  1., -1., -1.,  1.,  1., -1., -1., -1., -1., -1., -1.,  1., -1.,\n",
       "         1.,  1.,  1.,  1.,  1.,  1.,  1.,  1.,  1.,  1., -1., -1., -1.,  1.,\n",
       "         1., -1., -1.,  1.,  1.,  1.,  1.,  1.,  1.,  1., -1., -1.,  1., -1.,\n",
       "         1., -1.,  1., -1.,  1., -1., -1., -1., -1., -1., -1., -1.,  1.,  1.,\n",
       "        -1.,  1.,  1.,  1.,  1., -1.,  1., -1., -1., -1., -1., -1.,  1.,  1.,\n",
       "        -1.,  1., -1.,  1.,  1.,  1.,  1., -1.,  1., -1.,  1., -1., -1., -1.,\n",
       "        -1., -1.])"
      ]
     },
     "execution_count": 19,
     "metadata": {},
     "output_type": "execute_result"
    }
   ],
   "source": [
    "population[0]"
   ]
  },
  {
   "cell_type": "code",
   "execution_count": null,
   "metadata": {},
   "outputs": [],
   "source": []
  },
  {
   "cell_type": "code",
   "execution_count": 20,
   "metadata": {},
   "outputs": [
    {
     "data": {
      "text/plain": [
       "tensor([41518., 41518., 41518., 41518., 41518., 41518., 41518., 41518., 41518.,\n",
       "        41518., 41518., 41518., 41518., 41518., 41518., 41518., 41518., 41518.,\n",
       "        41518., 41518., 41518., 41518., 41518., 41518., 41518., 41518., 41518.,\n",
       "        41518., 41518., 41518., 41518., 41518., 41518., 41518., 41518., 41518.,\n",
       "        41518., 41518., 41518., 41518., 41518., 41518., 41518., 41518., 41518.,\n",
       "        41518., 41518., 41518., 41518., 41518., 41518., 41399., 41518., 41518.,\n",
       "        41518., 41518., 41518., 41518., 41518., 41518., 41518., 41518., 41518.,\n",
       "        41518., 41518., 41518., 41518., 41518., 41518., 41518., 41518., 41518.,\n",
       "        41518., 41518., 41518., 41518., 41518., 41518., 41371., 41518., 41518.,\n",
       "        41518., 41518., 41518., 41518., 41518., 41518., 41518., 41518., 41518.,\n",
       "        41518., 41518., 41518., 41440., 41518., 41518., 41518., 41518., 41518.,\n",
       "        41518., 41518., 41518., 41518., 41518., 41518., 41518., 41518., 41518.,\n",
       "        41518., 41518., 41518., 41518., 41518., 41518., 41518., 41518., 41518.,\n",
       "        41518., 41518., 41518., 41518., 41518., 41518., 41518., 41518., 41518.,\n",
       "        41518., 41518., 41518., 41518., 41518., 41518., 41518., 41518., 41518.,\n",
       "        41518., 41518., 41518., 41518., 41518., 41518., 41518., 41518., 41518.,\n",
       "        41518., 41518., 41518., 41518., 41518., 41518., 41518., 41518., 41518.,\n",
       "        41518., 41518., 41518., 41518., 41518., 41518., 41518., 41518., 41518.,\n",
       "        41518., 41518., 41518., 41518., 41518., 41518., 41518., 41518., 41518.,\n",
       "        41518., 41518., 41518., 41518., 41518., 41518., 41518., 41518., 41518.,\n",
       "        41518., 41518., 41518., 41518., 41518., 41379., 41518., 41518., 41518.,\n",
       "        41518., 41518., 41518., 41518., 41518., 41518., 41518., 41518., 41518.,\n",
       "        41518., 41518.])"
      ]
     },
     "execution_count": 20,
     "metadata": {},
     "output_type": "execute_result"
    }
   ],
   "source": [
    "fitnesses"
   ]
  },
  {
   "cell_type": "code",
   "execution_count": 9,
   "metadata": {},
   "outputs": [
    {
     "data": {
      "text/plain": [
       "60600"
      ]
     },
     "execution_count": 9,
     "metadata": {},
     "output_type": "execute_result"
    }
   ],
   "source": [
    "evaluations"
   ]
  },
  {
   "cell_type": "code",
   "execution_count": null,
   "metadata": {},
   "outputs": [],
   "source": []
  }
 ],
 "metadata": {
  "kernelspec": {
   "display_name": "myenv",
   "language": "python",
   "name": "python3"
  },
  "language_info": {
   "codemirror_mode": {
    "name": "ipython",
    "version": 3
   },
   "file_extension": ".py",
   "mimetype": "text/x-python",
   "name": "python",
   "nbconvert_exporter": "python",
   "pygments_lexer": "ipython3",
   "version": "3.9.19"
  }
 },
 "nbformat": 4,
 "nbformat_minor": 2
}
